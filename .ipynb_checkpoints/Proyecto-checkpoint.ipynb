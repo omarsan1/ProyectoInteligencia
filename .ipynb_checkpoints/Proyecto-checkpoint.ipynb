{
 "cells": [
  {
   "cell_type": "markdown",
   "metadata": {},
   "source": [
    "# <center>  Proyecto inteligencia artificial </center>\n"
   ]
  },
  {
   "cell_type": "markdown",
   "metadata": {},
   "source": [
    "<img src=\"BannerProyect.jpeg\" style=\"width:700px;\">"
   ]
  },
  {
   "cell_type": "markdown",
   "metadata": {},
   "source": [
    "## Análisis de llamadas a la línea 123: Bogotá\n",
    "### Predicción de prioridades y prevención de falsas alarmas\n",
    "\n",
    "Integrantes: \n",
    "\n",
    "- **Andrés Felipe Gómez Ortiz**\n",
    "- **Omar Sánchez Arciniegas**"
   ]
  },
  {
   "cell_type": "markdown",
   "metadata": {},
   "source": [
    "### Descripción del problema\n",
    "El número 123 es una de las líneas telefónicas de emergencia más importantes y utilizadas del país y a la cual en el 2017 de las llamadas que se hicieron a esta línea el 73% aproximadamente fueron llamadas falsas. \n",
    "Esto le resta prioridad y seriedad a la hora de atender una verdadera emergencia, es un desgaste de recursos al extender unidades de emergencias para atender falsas urgencias.\n",
    "\n",
    "Además, son miles las llamadas recibidas al día y es importante darle prioridades a los diferentes incidentes que se presentan en las llamadas, para así facilitar las movilizaciones, optimizar los recursos y beneficiar a la población. Por ello, uno de los objetivos de este proyecto es poder predecir con I.A y los métodos de clasificación, las falsas alarmas y las prioridades de las llamadas."
   ]
  },
  {
   "cell_type": "markdown",
   "metadata": {},
   "source": [
    "### **Objetivo general** \n",
    "\n",
    "- Identificar y predecir si una llamada es falsa y predecir la prioridad de las llamadas.\n",
    "\n",
    "### **Objetivos específicos** \n",
    "\n",
    "- Calcular cuales de las localidades tienen más urgencias \n",
    "- Analizar que tipos de incidentes son los que más se presentan en las llamadas\n",
    "- Observar en cuales meses se presentan más  llamadas de emergencias en las distintas localidades\n",
    "\n",
    "\n",
    "\n",
    "\n"
   ]
  },
  {
   "cell_type": "code",
   "execution_count": 1,
   "metadata": {},
   "outputs": [],
   "source": [
    "import numpy as np\n",
    "import pandas as pd\n",
    "import matplotlib.pyplot as plt\n",
    "from sklearn.naive_bayes import GaussianNB\n",
    "from sklearn.model_selection import cross_val_score\n",
    "from sklearn.model_selection import KFold\n",
    "from sklearn.metrics import *\n",
    "\n",
    "\n",
    "%matplotlib inline"
   ]
  },
  {
   "cell_type": "markdown",
   "metadata": {},
   "source": [
    "### DATASET ORIGINAL"
   ]
  },
  {
   "cell_type": "code",
   "execution_count": 2,
   "metadata": {},
   "outputs": [
    {
     "data": {
      "text/html": [
       "<div>\n",
       "<style scoped>\n",
       "    .dataframe tbody tr th:only-of-type {\n",
       "        vertical-align: middle;\n",
       "    }\n",
       "\n",
       "    .dataframe tbody tr th {\n",
       "        vertical-align: top;\n",
       "    }\n",
       "\n",
       "    .dataframe thead th {\n",
       "        text-align: right;\n",
       "    }\n",
       "</style>\n",
       "<table border=\"1\" class=\"dataframe\">\n",
       "  <thead>\n",
       "    <tr style=\"text-align: right;\">\n",
       "      <th></th>\n",
       "      <th>Columna1</th>\n",
       "      <th>FECHA_INICIO_DESPLAZAMIENTO_MOVIL</th>\n",
       "      <th>CODIGO LOCALIDAD</th>\n",
       "      <th>LOCALIDAD</th>\n",
       "      <th>EDAD</th>\n",
       "      <th>UNIDAD</th>\n",
       "      <th>GENERO</th>\n",
       "      <th>RED</th>\n",
       "      <th>TIPO_INCIDENTE</th>\n",
       "      <th>PRIORIDAD</th>\n",
       "      <th>MES</th>\n",
       "      <th>CLASIFICACION FINAL</th>\n",
       "    </tr>\n",
       "  </thead>\n",
       "  <tbody>\n",
       "    <tr>\n",
       "      <th>0</th>\n",
       "      <td>01/01/2019 00:00</td>\n",
       "      <td>01/01/2019 00:04</td>\n",
       "      <td>11</td>\n",
       "      <td>Suba</td>\n",
       "      <td>SIN_DATO</td>\n",
       "      <td>SIN_DATO</td>\n",
       "      <td>SIN_DATO</td>\n",
       "      <td>Norte</td>\n",
       "      <td>Lesiones personales</td>\n",
       "      <td>ALTA</td>\n",
       "      <td>ENERO</td>\n",
       "      <td>Cancelado</td>\n",
       "    </tr>\n",
       "    <tr>\n",
       "      <th>1</th>\n",
       "      <td>01/01/2019 00:00</td>\n",
       "      <td>01/01/2019 00:08</td>\n",
       "      <td>16</td>\n",
       "      <td>Puente Aranda</td>\n",
       "      <td>SIN_DATO</td>\n",
       "      <td>SIN_DATO</td>\n",
       "      <td>SIN_DATO</td>\n",
       "      <td>Sur</td>\n",
       "      <td>Accidente de tránsito con heridos/Muertos</td>\n",
       "      <td>ALTA</td>\n",
       "      <td>ENERO</td>\n",
       "      <td>Cancelado</td>\n",
       "    </tr>\n",
       "    <tr>\n",
       "      <th>2</th>\n",
       "      <td>01/01/2019 00:04</td>\n",
       "      <td>01/01/2019 00:07</td>\n",
       "      <td>3</td>\n",
       "      <td>Santa Fe</td>\n",
       "      <td>51</td>\n",
       "      <td>Años</td>\n",
       "      <td>FEMENINO</td>\n",
       "      <td>Norte</td>\n",
       "      <td>Dolor torácico</td>\n",
       "      <td>ALTA</td>\n",
       "      <td>ENERO</td>\n",
       "      <td>Traslado</td>\n",
       "    </tr>\n",
       "    <tr>\n",
       "      <th>3</th>\n",
       "      <td>01/01/2019 00:04</td>\n",
       "      <td>01/01/2019 00:07</td>\n",
       "      <td>10</td>\n",
       "      <td>Engativá</td>\n",
       "      <td>SIN_DATO</td>\n",
       "      <td>SIN_DATO</td>\n",
       "      <td>SIN_DATO</td>\n",
       "      <td>Norte</td>\n",
       "      <td>Inconsciente/Paro Cardiorrespiratorio</td>\n",
       "      <td>ALTA</td>\n",
       "      <td>ENERO</td>\n",
       "      <td>Falsa Alarma</td>\n",
       "    </tr>\n",
       "    <tr>\n",
       "      <th>4</th>\n",
       "      <td>01/01/2019 00:08</td>\n",
       "      <td>01/01/2019 00:10</td>\n",
       "      <td>8</td>\n",
       "      <td>Kennedy</td>\n",
       "      <td>SIN_DATO</td>\n",
       "      <td>SIN_DATO</td>\n",
       "      <td>SIN_DATO</td>\n",
       "      <td>Sur</td>\n",
       "      <td>Herido con pólvora</td>\n",
       "      <td>ALTA</td>\n",
       "      <td>ENERO</td>\n",
       "      <td>Cancelado</td>\n",
       "    </tr>\n",
       "  </tbody>\n",
       "</table>\n",
       "</div>"
      ],
      "text/plain": [
       "           Columna1 FECHA_INICIO_DESPLAZAMIENTO_MOVIL  CODIGO LOCALIDAD  \\\n",
       "0  01/01/2019 00:00                  01/01/2019 00:04                11   \n",
       "1  01/01/2019 00:00                  01/01/2019 00:08                16   \n",
       "2  01/01/2019 00:04                  01/01/2019 00:07                 3   \n",
       "3  01/01/2019 00:04                  01/01/2019 00:07                10   \n",
       "4  01/01/2019 00:08                  01/01/2019 00:10                 8   \n",
       "\n",
       "       LOCALIDAD      EDAD    UNIDAD    GENERO    RED  \\\n",
       "0           Suba  SIN_DATO  SIN_DATO  SIN_DATO  Norte   \n",
       "1  Puente Aranda  SIN_DATO  SIN_DATO  SIN_DATO    Sur   \n",
       "2       Santa Fe        51      Años  FEMENINO  Norte   \n",
       "3       Engativá  SIN_DATO  SIN_DATO  SIN_DATO  Norte   \n",
       "4        Kennedy  SIN_DATO  SIN_DATO  SIN_DATO    Sur   \n",
       "\n",
       "                              TIPO_INCIDENTE PRIORIDAD    MES  \\\n",
       "0                        Lesiones personales      ALTA  ENERO   \n",
       "1  Accidente de tránsito con heridos/Muertos      ALTA  ENERO   \n",
       "2                             Dolor torácico      ALTA  ENERO   \n",
       "3     Inconsciente/Paro Cardiorrespiratorio       ALTA  ENERO   \n",
       "4                         Herido con pólvora      ALTA  ENERO   \n",
       "\n",
       "  CLASIFICACION FINAL  \n",
       "0           Cancelado  \n",
       "1           Cancelado  \n",
       "2            Traslado  \n",
       "3        Falsa Alarma  \n",
       "4           Cancelado  "
      ]
     },
     "execution_count": 2,
     "metadata": {},
     "output_type": "execute_result"
    }
   ],
   "source": [
    "original = pd.read_csv(\"Prueba.csv\")\n",
    "prueba = pd.read_csv(\"Prueba.csv\")\n",
    "original.head(5)"
   ]
  },
  {
   "cell_type": "code",
   "execution_count": 3,
   "metadata": {},
   "outputs": [
    {
     "data": {
      "text/plain": [
       "(Index([u'Columna1', u'FECHA_INICIO_DESPLAZAMIENTO_MOVIL', u'CODIGO LOCALIDAD',\n",
       "        u'LOCALIDAD', u'EDAD', u'UNIDAD', u'GENERO', u'RED', u'TIPO_INCIDENTE',\n",
       "        u'PRIORIDAD', u'MES', u'CLASIFICACION FINAL'],\n",
       "       dtype='object'), (113139, 12))"
      ]
     },
     "execution_count": 3,
     "metadata": {},
     "output_type": "execute_result"
    }
   ],
   "source": [
    "original.columns, original.shape"
   ]
  },
  {
   "cell_type": "code",
   "execution_count": 4,
   "metadata": {},
   "outputs": [
    {
     "name": "stdout",
     "output_type": "stream",
     "text": [
      "UNIDAD\n",
      "AÑOS            2\n",
      "Años        60440\n",
      "Dias           67\n",
      "Horas          57\n",
      "Meses         592\n",
      "SIN_DATO    51975\n",
      "años            5\n",
      "meses           1\n",
      "dtype: int64\n"
     ]
    }
   ],
   "source": [
    "print(original.groupby('UNIDAD').size())"
   ]
  },
  {
   "cell_type": "code",
   "execution_count": 5,
   "metadata": {},
   "outputs": [
    {
     "name": "stderr",
     "output_type": "stream",
     "text": [
      "/opt/miniconda/lib/python2.7/site-packages/ipykernel_launcher.py:2: SettingWithCopyWarning: \n",
      "A value is trying to be set on a copy of a slice from a DataFrame\n",
      "\n",
      "See the caveats in the documentation: http://pandas.pydata.org/pandas-docs/stable/indexing.html#indexing-view-versus-copy\n",
      "  \n",
      "/opt/miniconda/lib/python2.7/site-packages/ipykernel_launcher.py:4: SettingWithCopyWarning: \n",
      "A value is trying to be set on a copy of a slice from a DataFrame\n",
      "\n",
      "See the caveats in the documentation: http://pandas.pydata.org/pandas-docs/stable/indexing.html#indexing-view-versus-copy\n",
      "  after removing the cwd from sys.path.\n"
     ]
    }
   ],
   "source": [
    "localidad=original[[\"CODIGO LOCALIDAD\", \"LOCALIDAD\"]]\n",
    "localidad.sort_values(\"CODIGO LOCALIDAD\", inplace=True)\n",
    "localidad.duplicated()\n",
    "localidad.drop_duplicates(\"CODIGO LOCALIDAD\", keep=\"last\", inplace=True)"
   ]
  },
  {
   "cell_type": "code",
   "execution_count": 6,
   "metadata": {},
   "outputs": [
    {
     "data": {
      "text/html": [
       "<div>\n",
       "<style scoped>\n",
       "    .dataframe tbody tr th:only-of-type {\n",
       "        vertical-align: middle;\n",
       "    }\n",
       "\n",
       "    .dataframe tbody tr th {\n",
       "        vertical-align: top;\n",
       "    }\n",
       "\n",
       "    .dataframe thead th {\n",
       "        text-align: right;\n",
       "    }\n",
       "</style>\n",
       "<table border=\"1\" class=\"dataframe\">\n",
       "  <thead>\n",
       "    <tr style=\"text-align: right;\">\n",
       "      <th></th>\n",
       "      <th>CODIGO LOCALIDAD</th>\n",
       "      <th>LOCALIDAD</th>\n",
       "    </tr>\n",
       "  </thead>\n",
       "  <tbody>\n",
       "    <tr>\n",
       "      <th>60091</th>\n",
       "      <td>1</td>\n",
       "      <td>Usaquén</td>\n",
       "    </tr>\n",
       "    <tr>\n",
       "      <th>29706</th>\n",
       "      <td>2</td>\n",
       "      <td>Chapinero</td>\n",
       "    </tr>\n",
       "    <tr>\n",
       "      <th>69057</th>\n",
       "      <td>3</td>\n",
       "      <td>Santa Fe</td>\n",
       "    </tr>\n",
       "    <tr>\n",
       "      <th>110717</th>\n",
       "      <td>4</td>\n",
       "      <td>San Cristóbal</td>\n",
       "    </tr>\n",
       "    <tr>\n",
       "      <th>92884</th>\n",
       "      <td>5</td>\n",
       "      <td>Usme</td>\n",
       "    </tr>\n",
       "    <tr>\n",
       "      <th>31260</th>\n",
       "      <td>6</td>\n",
       "      <td>Tunjuelito</td>\n",
       "    </tr>\n",
       "    <tr>\n",
       "      <th>101633</th>\n",
       "      <td>7</td>\n",
       "      <td>Bosa</td>\n",
       "    </tr>\n",
       "    <tr>\n",
       "      <th>63678</th>\n",
       "      <td>8</td>\n",
       "      <td>Kennedy</td>\n",
       "    </tr>\n",
       "    <tr>\n",
       "      <th>31688</th>\n",
       "      <td>9</td>\n",
       "      <td>Fontibón</td>\n",
       "    </tr>\n",
       "    <tr>\n",
       "      <th>43014</th>\n",
       "      <td>10</td>\n",
       "      <td>Engativá</td>\n",
       "    </tr>\n",
       "    <tr>\n",
       "      <th>62897</th>\n",
       "      <td>11</td>\n",
       "      <td>Suba</td>\n",
       "    </tr>\n",
       "    <tr>\n",
       "      <th>17566</th>\n",
       "      <td>12</td>\n",
       "      <td>Barrios Unidos</td>\n",
       "    </tr>\n",
       "    <tr>\n",
       "      <th>37203</th>\n",
       "      <td>13</td>\n",
       "      <td>Teusaquillo</td>\n",
       "    </tr>\n",
       "    <tr>\n",
       "      <th>6366</th>\n",
       "      <td>14</td>\n",
       "      <td>Los Mártires</td>\n",
       "    </tr>\n",
       "    <tr>\n",
       "      <th>31766</th>\n",
       "      <td>15</td>\n",
       "      <td>Antonio Nariño</td>\n",
       "    </tr>\n",
       "    <tr>\n",
       "      <th>10287</th>\n",
       "      <td>16</td>\n",
       "      <td>Puente Aranda</td>\n",
       "    </tr>\n",
       "    <tr>\n",
       "      <th>61955</th>\n",
       "      <td>17</td>\n",
       "      <td>La Candelaria</td>\n",
       "    </tr>\n",
       "    <tr>\n",
       "      <th>39870</th>\n",
       "      <td>18</td>\n",
       "      <td>Rafael Uribe Uribe</td>\n",
       "    </tr>\n",
       "    <tr>\n",
       "      <th>25600</th>\n",
       "      <td>19</td>\n",
       "      <td>Ciudad Bolívar</td>\n",
       "    </tr>\n",
       "    <tr>\n",
       "      <th>13489</th>\n",
       "      <td>20</td>\n",
       "      <td>Sumapaz</td>\n",
       "    </tr>\n",
       "  </tbody>\n",
       "</table>\n",
       "</div>"
      ],
      "text/plain": [
       "        CODIGO LOCALIDAD            LOCALIDAD\n",
       "60091                  1              Usaquén\n",
       "29706                  2            Chapinero\n",
       "69057                  3             Santa Fe\n",
       "110717                 4        San Cristóbal\n",
       "92884                  5                 Usme\n",
       "31260                  6           Tunjuelito\n",
       "101633                 7                 Bosa\n",
       "63678                  8              Kennedy\n",
       "31688                  9             Fontibón\n",
       "43014                 10             Engativá\n",
       "62897                 11                 Suba\n",
       "17566                 12       Barrios Unidos\n",
       "37203                 13          Teusaquillo\n",
       "6366                  14         Los Mártires\n",
       "31766                 15       Antonio Nariño\n",
       "10287                 16        Puente Aranda\n",
       "61955                 17        La Candelaria\n",
       "39870                 18   Rafael Uribe Uribe\n",
       "25600                 19       Ciudad Bolívar\n",
       "13489                 20              Sumapaz"
      ]
     },
     "execution_count": 6,
     "metadata": {},
     "output_type": "execute_result"
    }
   ],
   "source": [
    "#tabla localidad\n",
    "localidad"
   ]
  },
  {
   "cell_type": "markdown",
   "metadata": {},
   "source": [
    "### **Eliminación de las columnas innecesarias** "
   ]
  },
  {
   "cell_type": "code",
   "execution_count": 7,
   "metadata": {},
   "outputs": [],
   "source": [
    "del prueba[\"Columna1\"]\n",
    "del prueba[\"FECHA_INICIO_DESPLAZAMIENTO_MOVIL\"]\n",
    "del prueba[\"LOCALIDAD\"]\n",
    "del prueba[\"RED\"]"
   ]
  },
  {
   "cell_type": "markdown",
   "metadata": {},
   "source": [
    "### Eliminación de datos nulos"
   ]
  },
  {
   "cell_type": "code",
   "execution_count": 8,
   "metadata": {},
   "outputs": [
    {
     "data": {
      "text/html": [
       "<div>\n",
       "<style scoped>\n",
       "    .dataframe tbody tr th:only-of-type {\n",
       "        vertical-align: middle;\n",
       "    }\n",
       "\n",
       "    .dataframe tbody tr th {\n",
       "        vertical-align: top;\n",
       "    }\n",
       "\n",
       "    .dataframe thead th {\n",
       "        text-align: right;\n",
       "    }\n",
       "</style>\n",
       "<table border=\"1\" class=\"dataframe\">\n",
       "  <thead>\n",
       "    <tr style=\"text-align: right;\">\n",
       "      <th></th>\n",
       "      <th>COD_LOCALIDAD</th>\n",
       "      <th>EDAD</th>\n",
       "      <th>UNIDAD</th>\n",
       "      <th>GENERO</th>\n",
       "      <th>TIPO_INCIDENTE</th>\n",
       "      <th>PRIORIDAD</th>\n",
       "      <th>MES</th>\n",
       "      <th>CLASIFICACION_FINAL</th>\n",
       "    </tr>\n",
       "  </thead>\n",
       "  <tbody>\n",
       "    <tr>\n",
       "      <th>0</th>\n",
       "      <td>11</td>\n",
       "      <td>SIN_DATO</td>\n",
       "      <td>SIN_DATO</td>\n",
       "      <td>SIN_DATO</td>\n",
       "      <td>Lesiones personales</td>\n",
       "      <td>ALTA</td>\n",
       "      <td>ENERO</td>\n",
       "      <td>Cancelado</td>\n",
       "    </tr>\n",
       "    <tr>\n",
       "      <th>1</th>\n",
       "      <td>16</td>\n",
       "      <td>SIN_DATO</td>\n",
       "      <td>SIN_DATO</td>\n",
       "      <td>SIN_DATO</td>\n",
       "      <td>Accidente de tránsito con heridos/Muertos</td>\n",
       "      <td>ALTA</td>\n",
       "      <td>ENERO</td>\n",
       "      <td>Cancelado</td>\n",
       "    </tr>\n",
       "    <tr>\n",
       "      <th>2</th>\n",
       "      <td>3</td>\n",
       "      <td>51</td>\n",
       "      <td>Años</td>\n",
       "      <td>FEMENINO</td>\n",
       "      <td>Dolor torácico</td>\n",
       "      <td>ALTA</td>\n",
       "      <td>ENERO</td>\n",
       "      <td>Traslado</td>\n",
       "    </tr>\n",
       "    <tr>\n",
       "      <th>3</th>\n",
       "      <td>10</td>\n",
       "      <td>SIN_DATO</td>\n",
       "      <td>SIN_DATO</td>\n",
       "      <td>SIN_DATO</td>\n",
       "      <td>Inconsciente/Paro Cardiorrespiratorio</td>\n",
       "      <td>ALTA</td>\n",
       "      <td>ENERO</td>\n",
       "      <td>Falsa Alarma</td>\n",
       "    </tr>\n",
       "    <tr>\n",
       "      <th>4</th>\n",
       "      <td>8</td>\n",
       "      <td>SIN_DATO</td>\n",
       "      <td>SIN_DATO</td>\n",
       "      <td>SIN_DATO</td>\n",
       "      <td>Herido con pólvora</td>\n",
       "      <td>ALTA</td>\n",
       "      <td>ENERO</td>\n",
       "      <td>Cancelado</td>\n",
       "    </tr>\n",
       "  </tbody>\n",
       "</table>\n",
       "</div>"
      ],
      "text/plain": [
       "   COD_LOCALIDAD      EDAD    UNIDAD    GENERO  \\\n",
       "0             11  SIN_DATO  SIN_DATO  SIN_DATO   \n",
       "1             16  SIN_DATO  SIN_DATO  SIN_DATO   \n",
       "2              3        51      Años  FEMENINO   \n",
       "3             10  SIN_DATO  SIN_DATO  SIN_DATO   \n",
       "4              8  SIN_DATO  SIN_DATO  SIN_DATO   \n",
       "\n",
       "                              TIPO_INCIDENTE PRIORIDAD    MES  \\\n",
       "0                        Lesiones personales      ALTA  ENERO   \n",
       "1  Accidente de tránsito con heridos/Muertos      ALTA  ENERO   \n",
       "2                             Dolor torácico      ALTA  ENERO   \n",
       "3     Inconsciente/Paro Cardiorrespiratorio       ALTA  ENERO   \n",
       "4                         Herido con pólvora      ALTA  ENERO   \n",
       "\n",
       "  CLASIFICACION_FINAL  \n",
       "0           Cancelado  \n",
       "1           Cancelado  \n",
       "2            Traslado  \n",
       "3        Falsa Alarma  \n",
       "4           Cancelado  "
      ]
     },
     "execution_count": 8,
     "metadata": {},
     "output_type": "execute_result"
    }
   ],
   "source": [
    "prueba = prueba.rename(columns={'CLASIFICACION FINAL': 'CLASIFICACION_FINAL', 'CODIGO LOCALIDAD': 'COD_LOCALIDAD'})\n",
    "prueba.head()"
   ]
  },
  {
   "cell_type": "code",
   "execution_count": 9,
   "metadata": {},
   "outputs": [
    {
     "name": "stdout",
     "output_type": "stream",
     "text": [
      "51975\n",
      "51975\n",
      "51973\n",
      "179\n",
      "90\n",
      "24\n"
     ]
    }
   ],
   "source": [
    "#Comprobamos cuantAs filas de cada columna tienen por valor 'SIN_DATO'\n",
    "print (prueba.EDAD.value_counts()['SIN_DATO'])\n",
    "print (prueba.UNIDAD.value_counts()['SIN_DATO'])\n",
    "print (prueba.GENERO.value_counts()['SIN_DATO'])\n",
    "print (prueba.TIPO_INCIDENTE.value_counts()['SIN_DATO'])\n",
    "print (prueba.PRIORIDAD.value_counts()['SIN_DATO'])\n",
    "print (prueba.PRIORIDAD.value_counts()['0'])"
   ]
  },
  {
   "cell_type": "markdown",
   "metadata": {},
   "source": [
    "## Dataset prueba2 con elementos SIN_DATO eliminados"
   ]
  },
  {
   "cell_type": "code",
   "execution_count": 10,
   "metadata": {},
   "outputs": [],
   "source": [
    "prueba2 = prueba.copy()"
   ]
  },
  {
   "cell_type": "code",
   "execution_count": 11,
   "metadata": {},
   "outputs": [],
   "source": [
    "prueba2 = prueba2.drop(prueba2[prueba2['TIPO_INCIDENTE']=='SIN_DATO'].index)\n",
    "prueba2 = prueba2.drop(prueba2[prueba2['EDAD']=='SIN_DATO'].index)\n",
    "prueba2 = prueba2.drop(prueba2[prueba2['GENERO']=='SIN_DATO'].index)\n",
    "prueba2 = prueba2.drop(prueba2[prueba2['PRIORIDAD']=='SIN_DATO'].index)\n",
    "prueba2 = prueba2.drop(prueba2[prueba2['UNIDAD']=='SIN_DATO'].index)\n",
    "prueba2 = prueba2.drop(prueba2[prueba2['PRIORIDAD']=='0'].index)\n",
    "prueba2.EDAD = prueba2.EDAD.astype(np.int)\n",
    "prueba2 = prueba2.reset_index(drop=True)"
   ]
  },
  {
   "cell_type": "code",
   "execution_count": 12,
   "metadata": {},
   "outputs": [
    {
     "name": "stdout",
     "output_type": "stream",
     "text": [
      "<class 'pandas.core.frame.DataFrame'>\n",
      "RangeIndex: 61038 entries, 0 to 61037\n",
      "Data columns (total 8 columns):\n",
      "COD_LOCALIDAD          61038 non-null int64\n",
      "EDAD                   61038 non-null int64\n",
      "UNIDAD                 61038 non-null object\n",
      "GENERO                 61038 non-null object\n",
      "TIPO_INCIDENTE         61038 non-null object\n",
      "PRIORIDAD              61038 non-null object\n",
      "MES                    61038 non-null object\n",
      "CLASIFICACION_FINAL    61038 non-null object\n",
      "dtypes: int64(2), object(6)\n",
      "memory usage: 3.7+ MB\n"
     ]
    },
    {
     "data": {
      "text/html": [
       "<div>\n",
       "<style scoped>\n",
       "    .dataframe tbody tr th:only-of-type {\n",
       "        vertical-align: middle;\n",
       "    }\n",
       "\n",
       "    .dataframe tbody tr th {\n",
       "        vertical-align: top;\n",
       "    }\n",
       "\n",
       "    .dataframe thead th {\n",
       "        text-align: right;\n",
       "    }\n",
       "</style>\n",
       "<table border=\"1\" class=\"dataframe\">\n",
       "  <thead>\n",
       "    <tr style=\"text-align: right;\">\n",
       "      <th></th>\n",
       "      <th>COD_LOCALIDAD</th>\n",
       "      <th>EDAD</th>\n",
       "      <th>UNIDAD</th>\n",
       "      <th>GENERO</th>\n",
       "      <th>TIPO_INCIDENTE</th>\n",
       "      <th>PRIORIDAD</th>\n",
       "      <th>MES</th>\n",
       "      <th>CLASIFICACION_FINAL</th>\n",
       "    </tr>\n",
       "  </thead>\n",
       "  <tbody>\n",
       "    <tr>\n",
       "      <th>0</th>\n",
       "      <td>3</td>\n",
       "      <td>51</td>\n",
       "      <td>Años</td>\n",
       "      <td>FEMENINO</td>\n",
       "      <td>Dolor torácico</td>\n",
       "      <td>ALTA</td>\n",
       "      <td>ENERO</td>\n",
       "      <td>Traslado</td>\n",
       "    </tr>\n",
       "    <tr>\n",
       "      <th>1</th>\n",
       "      <td>8</td>\n",
       "      <td>51</td>\n",
       "      <td>Años</td>\n",
       "      <td>FEMENINO</td>\n",
       "      <td>Herido con pólvora</td>\n",
       "      <td>ALTA</td>\n",
       "      <td>ENERO</td>\n",
       "      <td>Desistimiento</td>\n",
       "    </tr>\n",
       "    <tr>\n",
       "      <th>2</th>\n",
       "      <td>7</td>\n",
       "      <td>19</td>\n",
       "      <td>Años</td>\n",
       "      <td>MASCULINO</td>\n",
       "      <td>Intento de suicidio</td>\n",
       "      <td>ALTA</td>\n",
       "      <td>ENERO</td>\n",
       "      <td>Trasladado por Otro Recurso</td>\n",
       "    </tr>\n",
       "    <tr>\n",
       "      <th>3</th>\n",
       "      <td>19</td>\n",
       "      <td>33</td>\n",
       "      <td>Años</td>\n",
       "      <td>FEMENINO</td>\n",
       "      <td>Herido con pólvora</td>\n",
       "      <td>ALTA</td>\n",
       "      <td>ENERO</td>\n",
       "      <td>Desistimiento</td>\n",
       "    </tr>\n",
       "    <tr>\n",
       "      <th>4</th>\n",
       "      <td>18</td>\n",
       "      <td>50</td>\n",
       "      <td>Años</td>\n",
       "      <td>MASCULINO</td>\n",
       "      <td>Inconsciente/Paro Cardiorrespiratorio</td>\n",
       "      <td>ALTA</td>\n",
       "      <td>ENERO</td>\n",
       "      <td>Fallecido</td>\n",
       "    </tr>\n",
       "  </tbody>\n",
       "</table>\n",
       "</div>"
      ],
      "text/plain": [
       "   COD_LOCALIDAD  EDAD UNIDAD     GENERO  \\\n",
       "0              3    51   Años   FEMENINO   \n",
       "1              8    51   Años   FEMENINO   \n",
       "2              7    19   Años  MASCULINO   \n",
       "3             19    33   Años   FEMENINO   \n",
       "4             18    50   Años  MASCULINO   \n",
       "\n",
       "                           TIPO_INCIDENTE PRIORIDAD    MES  \\\n",
       "0                          Dolor torácico      ALTA  ENERO   \n",
       "1                      Herido con pólvora      ALTA  ENERO   \n",
       "2                     Intento de suicidio      ALTA  ENERO   \n",
       "3                      Herido con pólvora      ALTA  ENERO   \n",
       "4  Inconsciente/Paro Cardiorrespiratorio       ALTA  ENERO   \n",
       "\n",
       "           CLASIFICACION_FINAL  \n",
       "0                     Traslado  \n",
       "1                Desistimiento  \n",
       "2  Trasladado por Otro Recurso  \n",
       "3                Desistimiento  \n",
       "4                    Fallecido  "
      ]
     },
     "execution_count": 12,
     "metadata": {},
     "output_type": "execute_result"
    }
   ],
   "source": [
    "P_result=prueba2.copy()\n",
    "prueba2.info()\n",
    "prueba2.head()"
   ]
  },
  {
   "cell_type": "code",
   "execution_count": 13,
   "metadata": {},
   "outputs": [],
   "source": [
    "#genero\n",
    "prueba2 = prueba2.replace({\"FEMENINO\": 2, \"MASCULINO\": 1}) \n",
    "#unidad\n",
    "prueba2= prueba2.replace({\"AÑOS\": 1, \"Años\": 1, \"años\": 1, \"Meses\": 2, \"meses\": 2, \"Dias\": 3, \"Horas\": 4})\n",
    "#prioridad\n",
    "prueba2 = prueba2.replace({\"BAJA\": 1, \"MEDIA\": 2, \"ALTA\": 3}) \n",
    "#mes\n",
    "prueba2 = prueba2.replace({\"ENERO\": 1, \"FEBRERO\": 2, \"MARZO\": 3, \"ABRIL\": 4, \"MAYO\": 5, \"JUNIO\": 6, \"JULIO\": 7, \"AGOSTO\": 8, \"SEPTIEMBRE\": 9, \"OCTUBRE\": 10, \"NOVIEMBRE\": 11, \"DICIEMBRE\": 12})\n",
    "#clasificacion final\n",
    "prueba2 = prueba2.replace({\"Desistimiento\": 1, \"Fallecido\": 2, \"No Amerita Traslado\": 3, \"Trasladado por Otro Recurso\": 4, \"Trasladado por Otro\": 4,\"Traslado\": 5, \"Cancelado\": 6, \"No Ubica\": 7, \"FALSA AL\":8, \"Falsa Alarma\": 8})\n",
    "#tipo incidente\n",
    "prueba2 = prueba2.replace({\"Abrir domicilio\": 1, \"Accidente Tránsito Simple\": 2, \"Accidente cerebro vascular \": 3, \"Accidente de tránsito con heridos/Muertos\": 4, \"Amenaza de Ruina\": 5,\n",
    "                        \"Animal Atrapado\": 6, \"Animal Peligroso\": 7, \"Atraco / Hurto en Proces\": 8, \"Caída \": 9, \"Convulsiones \": 10, \"DAÑOS EN SERVICIOS\": 11, \"Delincuente capturado por civil\": 12, \"Deslizamiento\": 13, \"Dificultad Respiratoria\": 14,\n",
    "                        \"Disparos\": 15, \"Dolor torácico\": 16, \"Electrocución / Rescate\": 17, \"Elemento caído y/o en peligro de caer.\": 18, \"Embriaguez\": 19, \"Enfermo\": 20, \"Explosión\": 21, \"Extraviados / Desaparecidos\": 22, \"FALLECIDO\": 23,\n",
    "                        \"Fuga de Gas Natural o Propano\": 24, \"Habitante de la Calle\": 25, \"Herido con pólvora\": 26, \"Heridos \": 27, \"Hurto Efectuado\": 28, \"Ideas de suicidio \": 29, \"Incendio\": 30, \"Incendio Vehicular\": 31, \n",
    "                        \"Incendio estructural\": 32, \"Incendio forestal\": 33, \"Incidente rescate acuático\": 34, \"Inconsciente/Paro Cardiorrespiratorio \": 35, \"Intento de suicidio\": 36, \"Intoxicaciones\": 37, \"Lesiones personales\": 38, \n",
    "                        \"MATPEL (Materiales peligrosos)\": 39, \"Maltrato            \": 40, \"Manifestación / Motín\": 41, \"Menor o persona Abandonada\": 42, \"Muerte Natural\": 43, \"Muerto\": 44, \"Patología Gineco - obstétrica\": 45, \"Persona Pidiendo Auxilio\": 46,\n",
    "                        \"Persona tendida en la vía\": 47, \"Prevención\": 48, \"Quemaduras\": 49, \"Rapto / Secuestro\": 50, \"Rescates\": 51, \"Rescates Montaña\": 52, \"Riña\": 53, \"Sangrado Vaginal\": 54, \"Solicitud Apoyo / Desacato\": 55, \"Síntomas gastrointestinales\": 56,\n",
    "                        \"Trastorno mental\": 57, \"Venta o Consumo alcohol u otro en Menor\": 58, \"Verificar Situación\": 59, \"Violencia Sexual    \": 60})\n",
    "\n",
    "#prueba2 = prueba2.reset_index(drop=True)"
   ]
  },
  {
   "cell_type": "code",
   "execution_count": 14,
   "metadata": {},
   "outputs": [
    {
     "name": "stdout",
     "output_type": "stream",
     "text": [
      "GENERO\n",
      "1    31866\n",
      "2    29172\n",
      "dtype: int64\n",
      "MES\n",
      "1     7394\n",
      "2    14228\n",
      "3    16838\n",
      "4    14730\n",
      "5     7848\n",
      "dtype: int64\n",
      "CLASIFICACION_FINAL\n",
      "1     7395\n",
      "2     1621\n",
      "3     3559\n",
      "4     1064\n",
      "5    47399\n",
      "dtype: int64\n",
      "PRIORIDAD\n",
      "1      507\n",
      "2    14633\n",
      "3    45898\n",
      "dtype: int64\n",
      "EDAD\n",
      "1      147\n",
      "2      247\n",
      "3      234\n",
      "4      170\n",
      "5      131\n",
      "6      152\n",
      "7      150\n",
      "8      223\n",
      "9      277\n",
      "10     212\n",
      "11     265\n",
      "12     296\n",
      "13     427\n",
      "14     470\n",
      "15     640\n",
      "16     819\n",
      "17     981\n",
      "18    1096\n",
      "19    1227\n",
      "20    1392\n",
      "21    1241\n",
      "22    1619\n",
      "23    1454\n",
      "24    1362\n",
      "25    1306\n",
      "26    1178\n",
      "27    1052\n",
      "28    1132\n",
      "29     940\n",
      "30    1096\n",
      "      ... \n",
      "70     660\n",
      "71     579\n",
      "72     601\n",
      "73     569\n",
      "74     624\n",
      "75     613\n",
      "76     615\n",
      "77     531\n",
      "78     791\n",
      "79     629\n",
      "80     664\n",
      "81     596\n",
      "82     745\n",
      "83     732\n",
      "84     772\n",
      "85     635\n",
      "86     673\n",
      "87     584\n",
      "88     570\n",
      "89     552\n",
      "90     456\n",
      "91     329\n",
      "92     391\n",
      "93     291\n",
      "94     220\n",
      "95     174\n",
      "96     151\n",
      "97     106\n",
      "98     106\n",
      "99     159\n",
      "Length: 99, dtype: int64\n",
      "UNIDAD\n",
      "1    60324\n",
      "2      590\n",
      "3       67\n",
      "4       57\n",
      "dtype: int64\n",
      "COD_LOCALIDAD\n",
      "1     2817\n",
      "2     1844\n",
      "3     2163\n",
      "4     3670\n",
      "5     3009\n",
      "6     2125\n",
      "7     4855\n",
      "8     6873\n",
      "9     2419\n",
      "10    6175\n",
      "11    6434\n",
      "12    1852\n",
      "13    1589\n",
      "14    2083\n",
      "15    1300\n",
      "16    3333\n",
      "17     420\n",
      "18    3500\n",
      "19    4567\n",
      "20      10\n",
      "dtype: int64\n",
      "TIPO_INCIDENTE\n",
      "1       27\n",
      "2       24\n",
      "3     2090\n",
      "4     6960\n",
      "5        6\n",
      "6        2\n",
      "7        5\n",
      "8        8\n",
      "9     1643\n",
      "10    4525\n",
      "11       1\n",
      "12       4\n",
      "13       2\n",
      "14    8627\n",
      "15       2\n",
      "16    3197\n",
      "17      53\n",
      "18      18\n",
      "19      16\n",
      "20    6715\n",
      "21      62\n",
      "22       3\n",
      "23       1\n",
      "24      35\n",
      "25       4\n",
      "26       2\n",
      "27    3737\n",
      "28       9\n",
      "29     666\n",
      "30       1\n",
      "31      15\n",
      "32     109\n",
      "33      16\n",
      "34      10\n",
      "35    7817\n",
      "36    2859\n",
      "37     796\n",
      "38    1432\n",
      "39      25\n",
      "40      18\n",
      "41      65\n",
      "42       5\n",
      "43     101\n",
      "44       6\n",
      "45    2028\n",
      "46      25\n",
      "47       8\n",
      "48       2\n",
      "49      65\n",
      "50       1\n",
      "51      34\n",
      "52       2\n",
      "53      36\n",
      "54     124\n",
      "55      70\n",
      "56    2456\n",
      "57    4295\n",
      "58       2\n",
      "59      12\n",
      "60     159\n",
      "dtype: int64\n"
     ]
    }
   ],
   "source": [
    "print(prueba2.groupby('GENERO').size())\n",
    "print(prueba2.groupby('MES').size())\n",
    "print(prueba2.groupby('CLASIFICACION_FINAL').size())\n",
    "print(prueba2.groupby('PRIORIDAD').size())\n",
    "print(prueba2.groupby('EDAD').size())\n",
    "print(prueba2.groupby('UNIDAD').size())\n",
    "print(prueba2.groupby('COD_LOCALIDAD').size())\n",
    "print(prueba2.groupby('TIPO_INCIDENTE').size())"
   ]
  },
  {
   "cell_type": "code",
   "execution_count": 15,
   "metadata": {},
   "outputs": [
    {
     "data": {
      "text/html": [
       "<div>\n",
       "<style scoped>\n",
       "    .dataframe tbody tr th:only-of-type {\n",
       "        vertical-align: middle;\n",
       "    }\n",
       "\n",
       "    .dataframe tbody tr th {\n",
       "        vertical-align: top;\n",
       "    }\n",
       "\n",
       "    .dataframe thead th {\n",
       "        text-align: right;\n",
       "    }\n",
       "</style>\n",
       "<table border=\"1\" class=\"dataframe\">\n",
       "  <thead>\n",
       "    <tr style=\"text-align: right;\">\n",
       "      <th></th>\n",
       "      <th>Clasificacion_final</th>\n",
       "      <th>Num_clasificacion_final</th>\n",
       "    </tr>\n",
       "  </thead>\n",
       "  <tbody>\n",
       "    <tr>\n",
       "      <th>0</th>\n",
       "      <td>Desistimiento</td>\n",
       "      <td>1</td>\n",
       "    </tr>\n",
       "    <tr>\n",
       "      <th>1</th>\n",
       "      <td>Fallecido</td>\n",
       "      <td>2</td>\n",
       "    </tr>\n",
       "    <tr>\n",
       "      <th>2</th>\n",
       "      <td>No Amerita Traslado</td>\n",
       "      <td>3</td>\n",
       "    </tr>\n",
       "    <tr>\n",
       "      <th>3</th>\n",
       "      <td>Trasladado por Otro Recurso</td>\n",
       "      <td>4</td>\n",
       "    </tr>\n",
       "    <tr>\n",
       "      <th>4</th>\n",
       "      <td>Traslado</td>\n",
       "      <td>5</td>\n",
       "    </tr>\n",
       "  </tbody>\n",
       "</table>\n",
       "</div>"
      ],
      "text/plain": [
       "           Clasificacion_final Num_clasificacion_final\n",
       "0                Desistimiento                       1\n",
       "1                    Fallecido                       2\n",
       "2          No Amerita Traslado                       3\n",
       "3  Trasladado por Otro Recurso                       4\n",
       "4                     Traslado                       5"
      ]
     },
     "execution_count": 15,
     "metadata": {},
     "output_type": "execute_result"
    }
   ],
   "source": [
    "clasificacion_final = pd.Series(['Desistimiento', 'Fallecido', 'No Amerita Traslado', 'Trasladado por Otro Recurso', 'Traslado'])\n",
    "num_clasificacion_final = pd.Series(['1', '2', '3', '4', '5'])\n",
    "\n",
    "clas_final=pd.DataFrame({ 'Clasificacion_final': clasificacion_final, 'Num_clasificacion_final': num_clasificacion_final})\n",
    "clas_final"
   ]
  },
  {
   "cell_type": "code",
   "execution_count": 16,
   "metadata": {},
   "outputs": [
    {
     "name": "stdout",
     "output_type": "stream",
     "text": [
      "<class 'pandas.core.frame.DataFrame'>\n",
      "RangeIndex: 61038 entries, 0 to 61037\n",
      "Data columns (total 8 columns):\n",
      "COD_LOCALIDAD          61038 non-null int64\n",
      "EDAD                   61038 non-null int64\n",
      "UNIDAD                 61038 non-null int64\n",
      "GENERO                 61038 non-null int64\n",
      "TIPO_INCIDENTE         61038 non-null int64\n",
      "PRIORIDAD              61038 non-null int64\n",
      "MES                    61038 non-null int64\n",
      "CLASIFICACION_FINAL    61038 non-null int64\n",
      "dtypes: int64(8)\n",
      "memory usage: 3.7 MB\n"
     ]
    },
    {
     "data": {
      "text/html": [
       "<div>\n",
       "<style scoped>\n",
       "    .dataframe tbody tr th:only-of-type {\n",
       "        vertical-align: middle;\n",
       "    }\n",
       "\n",
       "    .dataframe tbody tr th {\n",
       "        vertical-align: top;\n",
       "    }\n",
       "\n",
       "    .dataframe thead th {\n",
       "        text-align: right;\n",
       "    }\n",
       "</style>\n",
       "<table border=\"1\" class=\"dataframe\">\n",
       "  <thead>\n",
       "    <tr style=\"text-align: right;\">\n",
       "      <th></th>\n",
       "      <th>COD_LOCALIDAD</th>\n",
       "      <th>EDAD</th>\n",
       "      <th>UNIDAD</th>\n",
       "      <th>GENERO</th>\n",
       "      <th>TIPO_INCIDENTE</th>\n",
       "      <th>PRIORIDAD</th>\n",
       "      <th>MES</th>\n",
       "      <th>CLASIFICACION_FINAL</th>\n",
       "    </tr>\n",
       "  </thead>\n",
       "  <tbody>\n",
       "    <tr>\n",
       "      <th>0</th>\n",
       "      <td>3</td>\n",
       "      <td>51</td>\n",
       "      <td>1</td>\n",
       "      <td>2</td>\n",
       "      <td>16</td>\n",
       "      <td>3</td>\n",
       "      <td>1</td>\n",
       "      <td>5</td>\n",
       "    </tr>\n",
       "    <tr>\n",
       "      <th>1</th>\n",
       "      <td>8</td>\n",
       "      <td>51</td>\n",
       "      <td>1</td>\n",
       "      <td>2</td>\n",
       "      <td>26</td>\n",
       "      <td>3</td>\n",
       "      <td>1</td>\n",
       "      <td>1</td>\n",
       "    </tr>\n",
       "    <tr>\n",
       "      <th>2</th>\n",
       "      <td>7</td>\n",
       "      <td>19</td>\n",
       "      <td>1</td>\n",
       "      <td>1</td>\n",
       "      <td>36</td>\n",
       "      <td>3</td>\n",
       "      <td>1</td>\n",
       "      <td>4</td>\n",
       "    </tr>\n",
       "    <tr>\n",
       "      <th>3</th>\n",
       "      <td>19</td>\n",
       "      <td>33</td>\n",
       "      <td>1</td>\n",
       "      <td>2</td>\n",
       "      <td>26</td>\n",
       "      <td>3</td>\n",
       "      <td>1</td>\n",
       "      <td>1</td>\n",
       "    </tr>\n",
       "    <tr>\n",
       "      <th>4</th>\n",
       "      <td>18</td>\n",
       "      <td>50</td>\n",
       "      <td>1</td>\n",
       "      <td>1</td>\n",
       "      <td>35</td>\n",
       "      <td>3</td>\n",
       "      <td>1</td>\n",
       "      <td>2</td>\n",
       "    </tr>\n",
       "  </tbody>\n",
       "</table>\n",
       "</div>"
      ],
      "text/plain": [
       "   COD_LOCALIDAD  EDAD  UNIDAD  GENERO  TIPO_INCIDENTE  PRIORIDAD  MES  \\\n",
       "0              3    51       1       2              16          3    1   \n",
       "1              8    51       1       2              26          3    1   \n",
       "2              7    19       1       1              36          3    1   \n",
       "3             19    33       1       2              26          3    1   \n",
       "4             18    50       1       1              35          3    1   \n",
       "\n",
       "   CLASIFICACION_FINAL  \n",
       "0                    5  \n",
       "1                    1  \n",
       "2                    4  \n",
       "3                    1  \n",
       "4                    2  "
      ]
     },
     "execution_count": 16,
     "metadata": {},
     "output_type": "execute_result"
    }
   ],
   "source": [
    "prueba2.info()\n",
    "prueba2.head()"
   ]
  },
  {
   "cell_type": "code",
   "execution_count": 17,
   "metadata": {},
   "outputs": [],
   "source": [
    "from sklearn.model_selection import train_test_split \n",
    "\n",
    "X = prueba2.values[:,:-1]\n",
    "y = prueba2.values[:,-1]\n",
    "#Dividimos nuestros datos en \"conjunto de entrenamiento y de prueba\n",
    "X_train, X_test, y_train, y_test = train_test_split(X,y, test_size=.2)"
   ]
  },
  {
   "cell_type": "markdown",
   "metadata": {},
   "source": [
    "## <center> Clasificadores utilizados</center>"
   ]
  },
  {
   "cell_type": "markdown",
   "metadata": {},
   "source": [
    "### Gaussian"
   ]
  },
  {
   "cell_type": "code",
   "execution_count": 18,
   "metadata": {},
   "outputs": [
    {
     "name": "stdout",
     "output_type": "stream",
     "text": [
      "0.767\n"
     ]
    }
   ],
   "source": [
    "from sklearn.naive_bayes import GaussianNB\n",
    "estG = GaussianNB()\n",
    "\n",
    "estG.fit(X,y)\n",
    "predictions = estG.predict(X)\n",
    "print \"%.3f\"%accuracy_score(predictions, y)"
   ]
  },
  {
   "cell_type": "code",
   "execution_count": 19,
   "metadata": {},
   "outputs": [
    {
     "name": "stdout",
     "output_type": "stream",
     "text": [
      "shape after PCA  (61038, 3)\n",
      "accuracy 0.777 (+/- 0.00306)\n"
     ]
    }
   ],
   "source": [
    "from sklearn.decomposition import PCA\n",
    "X = prueba2.values[:,:-1]\n",
    "y = prueba2.values[:,-1]\n",
    "X = PCA(n_components=3).fit_transform(X)\n",
    "print \"shape after PCA \", X.shape\n",
    "s = cross_val_score(GaussianNB(), X, y, cv=KFold(10, shuffle=True), scoring=make_scorer(accuracy_score))\n",
    "print \"accuracy %.3f (+/- %.5f)\"%(np.mean(s), np.std(s))"
   ]
  },
  {
   "cell_type": "code",
   "execution_count": 20,
   "metadata": {},
   "outputs": [
    {
     "name": "stdout",
     "output_type": "stream",
     "text": [
      "[ 0.77965269  0.76081258  0.77522936  0.75868283  0.76408912  0.7724443\n",
      "  0.76982307  0.77719528  0.76306734  0.77289857]\n",
      "accuracy 0.769 (+/- 0.00692)\n"
     ]
    }
   ],
   "source": [
    "from sklearn.metrics import make_scorer, accuracy_score\n",
    "estG = GaussianNB()\n",
    "X = prueba2.values[:,:-1]\n",
    "y = prueba2.values[:,-1]\n",
    "s = cross_val_score(estG, X, y, cv=KFold(10, shuffle=True), scoring=make_scorer(accuracy_score))\n",
    "print s\n",
    "print \"accuracy %.3f (+/- %.5f)\"%(np.mean(s), np.std(s))"
   ]
  },
  {
   "cell_type": "markdown",
   "metadata": {},
   "source": [
    "### Decision Tree"
   ]
  },
  {
   "cell_type": "code",
   "execution_count": 21,
   "metadata": {},
   "outputs": [
    {
     "name": "stdout",
     "output_type": "stream",
     "text": [
      "accuracy 0.814 (+/- 0.00434)\n"
     ]
    },
    {
     "data": {
      "text/plain": [
       "array([ 0.26334923,  0.36845359,  0.00505162,  0.0534572 ,  0.08917494,\n",
       "        0.02929613,  0.19121729])"
      ]
     },
     "execution_count": 21,
     "metadata": {},
     "output_type": "execute_result"
    }
   ],
   "source": [
    "from sklearn.tree import DecisionTreeClassifier\n",
    "\n",
    "estDT = DecisionTreeClassifier()\n",
    "s = cross_val_score(estDT, X, y, cv=KFold(10, shuffle=True), scoring=make_scorer(accuracy_score))\n",
    "print \"accuracy %.3f (+/- %.5f)\"%(np.mean(s), np.std(s))\n",
    "\n",
    "estDT.fit(X,y)\n",
    "estDT.feature_importances_"
   ]
  },
  {
   "cell_type": "markdown",
   "metadata": {},
   "source": [
    "### Random Forest"
   ]
  },
  {
   "cell_type": "code",
   "execution_count": 22,
   "metadata": {},
   "outputs": [
    {
     "name": "stdout",
     "output_type": "stream",
     "text": [
      "accuracy 0.834 (+/- 0.00308)\n"
     ]
    },
    {
     "data": {
      "text/plain": [
       "array([ 0.21287901,  0.48415285,  0.00305559,  0.01870259,  0.17216746,\n",
       "        0.01409451,  0.094948  ])"
      ]
     },
     "execution_count": 22,
     "metadata": {},
     "output_type": "execute_result"
    }
   ],
   "source": [
    "from sklearn.ensemble import RandomForestClassifier\n",
    "estRF = RandomForestClassifier()\n",
    "s = cross_val_score(estRF, X, y, cv=KFold(10, shuffle=True), scoring=make_scorer(accuracy_score))\n",
    "print \"accuracy %.3f (+/- %.5f)\"%(np.mean(s), np.std(s))\n",
    "\n",
    "estRF.fit(X,y)\n",
    "estRF.feature_importances_"
   ]
  },
  {
   "cell_type": "markdown",
   "metadata": {},
   "source": [
    "### Gráficas comparativas de los métodos."
   ]
  },
  {
   "cell_type": "code",
   "execution_count": 285,
   "metadata": {},
   "outputs": [],
   "source": [
    "def show_curve(est,X,y):\n",
    "    means, stds = [], []\n",
    "    nfolds_range = range(2,11)\n",
    "    for nfolds in nfolds_range:\n",
    "        s = cross_val_score(est, X, y, cv=KFold(nfolds, shuffle=True), scoring=make_scorer(accuracy_score))\n",
    "        means.append(np.mean(s))\n",
    "        stds.append(np.std(s))\n",
    "\n",
    "    means = np.r_[means]\n",
    "    stds  = np.r_[stds]\n",
    "\n",
    "    plt.plot(nfolds_range, means, label=\"mean\", color=\"black\")\n",
    "    plt.fill_between(nfolds_range, means-stds, means+stds, color=\"blue\", alpha=.5, label=\"std\")\n",
    "    plt.xlabel(\"n folds\")\n",
    "    plt.ylabel(\"Comportamiento\")\n",
    "    plt.legend()"
   ]
  },
  {
   "cell_type": "code",
   "execution_count": 25,
   "metadata": {},
   "outputs": [
    {
     "data": {
      "image/png": "[encoded data removed]",
      "text/plain": [
       "<matplotlib.figure.Figure at 0x7f64f443d250>"
      ]
     },
     "metadata": {},
     "output_type": "display_data"
    }
   ],
   "source": [
    "estimadores=[GaussianNB(),DecisionTreeClassifier(),RandomForestClassifier()]\n",
    "C=[\"GaussianNB()\",\"DecisionTreeClassifier()\",\"RandomForestClassifier()\"]\n",
    "plt.figure(figsize=(17,4))\n",
    "for i,este in enumerate(estimadores):\n",
    "    plt.subplot(1,3,i+1)\n",
    "    plt.title(C[i])\n",
    "    show_curve(este,X,y)"
   ]
  },
  {
   "cell_type": "markdown",
   "metadata": {},
   "source": [
    "### KNN: K-Nearest Neighbors"
   ]
  },
  {
   "cell_type": "code",
   "execution_count": 23,
   "metadata": {},
   "outputs": [
    {
     "name": "stdout",
     "output_type": "stream",
     "text": [
      "(48830, 7) (12208, 7) (48830,) (12208,)\n"
     ]
    },
    {
     "data": {
      "text/plain": [
       "0.75466906946264745"
      ]
     },
     "execution_count": 23,
     "metadata": {},
     "output_type": "execute_result"
    }
   ],
   "source": [
    "from sklearn.neighbors import KNeighborsClassifier #Importamos al método \n",
    "from sklearn.datasets import load_iris #Importamos el conjunto de datos\n",
    "from sklearn.model_selection import train_test_split \n",
    "\n",
    "\n",
    "print X_train.shape, X_test.shape, y_train.shape, y_test.shape\n",
    "\n",
    "knn = KNeighborsClassifier(n_neighbors=8) #Declaramos al método\n",
    "\n",
    "knn.fit(X_train, y_train) #Ajustamos a al método\n",
    "\n",
    "knn.score(X_test, y_test) # El porcentaje de acertamiento del método"
   ]
  },
  {
   "cell_type": "code",
   "execution_count": 24,
   "metadata": {},
   "outputs": [
    {
     "data": {
      "text/plain": [
       "0.84376945509354828"
      ]
     },
     "execution_count": 24,
     "metadata": {},
     "output_type": "execute_result"
    }
   ],
   "source": [
    "\n",
    "knn = KNeighborsClassifier(n_neighbors=4) #Declaramos al método y cambiamos el numeros de vecinos\n",
    "\n",
    "knn.fit(X,y) #Ajustamos a al método\n",
    "\n",
    "knn.score(X,y) # El porcentaje de acertamiento del método con todos los valores de X y de Y"
   ]
  },
  {
   "cell_type": "code",
   "execution_count": 25,
   "metadata": {},
   "outputs": [
    {
     "name": "stdout",
     "output_type": "stream",
     "text": [
      "accuracy 0.693 (+/- 0.00498)\n"
     ]
    }
   ],
   "source": [
    "estkn = KNeighborsClassifier(n_neighbors=4)\n",
    "s = cross_val_score(estkn, X, y, cv=KFold(10, shuffle=True), scoring=make_scorer(accuracy_score))\n",
    "print \"accuracy %.3f (+/- %.5f)\"%(np.mean(s), np.std(s))"
   ]
  },
  {
   "cell_type": "code",
   "execution_count": 29,
   "metadata": {},
   "outputs": [
    {
     "data": {
      "image/png": "[encoded data removed]",
      "text/plain": [
       "<matplotlib.figure.Figure at 0x7f64f4201650>"
      ]
     },
     "metadata": {},
     "output_type": "display_data"
    }
   ],
   "source": [
    "estimadores=[ KNeighborsClassifier(), KNeighborsClassifier(n_neighbors=4),KNeighborsClassifier(n_neighbors=8)]\n",
    "C=[ \"KNN:Default(5)\", \"KNN:n_neighbors=4\",\"KNN:n_neighbors=8\"]\n",
    "plt.figure(figsize=(17,4))\n",
    "for i,este in enumerate(estimadores):\n",
    "    plt.subplot(1,3,i+1)\n",
    "    plt.title(C[i])\n",
    "    show_curve(este, X, y)"
   ]
  },
  {
   "cell_type": "markdown",
   "metadata": {},
   "source": [
    "### Redes neuronales"
   ]
  },
  {
   "cell_type": "code",
   "execution_count": 26,
   "metadata": {},
   "outputs": [],
   "source": [
    "import tensorflow as tf\n",
    "from tensorflow import keras"
   ]
  },
  {
   "cell_type": "code",
   "execution_count": 27,
   "metadata": {},
   "outputs": [
    {
     "name": "stdout",
     "output_type": "stream",
     "text": [
      "(48830, 7) (12208, 7) (48830,) (12208,)\n"
     ]
    }
   ],
   "source": [
    "from sklearn.model_selection import train_test_split\n",
    "\n",
    "X = prueba2.values[:,:-1]\n",
    "y = prueba2.values[:,-1]\n",
    "\n",
    "X_train, X_test, y_train, y_test = train_test_split(X,y, test_size=.2)\n",
    "\n",
    "print X_train.shape, X_test.shape, y_train.shape, y_test.shape"
   ]
  },
  {
   "cell_type": "code",
   "execution_count": 28,
   "metadata": {},
   "outputs": [
    {
     "name": "stdout",
     "output_type": "stream",
     "text": [
      "_________________________________________________________________\n",
      "Layer (type)                 Output Shape              Param #   \n",
      "=================================================================\n",
      "flatten_1 (Flatten)          (None, 7)                 0         \n",
      "_________________________________________________________________\n",
      "dense_1 (Dense)              (None, 4)                 32        \n",
      "_________________________________________________________________\n",
      "dense_2 (Dense)              (None, 6)                 30        \n",
      "=================================================================\n",
      "Total params: 62\n",
      "Trainable params: 62\n",
      "Non-trainable params: 0\n",
      "_________________________________________________________________\n"
     ]
    }
   ],
   "source": [
    "model = keras.models.Sequential([\n",
    "    keras.layers.Flatten(input_shape=(X[0].shape)),\n",
    "    keras.layers.Dense(4, activation=tf.nn.relu),\n",
    "    keras.layers.Dense(6, activation=tf.nn.softmax)\n",
    "])\n",
    "\n",
    "model.summary()"
   ]
  },
  {
   "cell_type": "code",
   "execution_count": 29,
   "metadata": {},
   "outputs": [],
   "source": [
    "model.compile(optimizer=tf.train.AdamOptimizer(), \n",
    "              loss='sparse_categorical_crossentropy',\n",
    "              metrics=['accuracy'])"
   ]
  },
  {
   "cell_type": "code",
   "execution_count": 30,
   "metadata": {},
   "outputs": [
    {
     "name": "stdout",
     "output_type": "stream",
     "text": [
      "Epoch 1/5\n",
      "48830/48830 [==============================] - 5s - loss: 1.5912 - acc: 0.7331     \n",
      "Epoch 2/5\n",
      "48830/48830 [==============================] - 4s - loss: 0.7893 - acc: 0.7763     \n",
      "Epoch 3/5\n",
      "48830/48830 [==============================] - 4s - loss: 0.7793 - acc: 0.7765     \n",
      "Epoch 4/5\n",
      "48830/48830 [==============================] - 4s - loss: 0.7751 - acc: 0.7765     \n",
      "Epoch 5/5\n",
      "48830/48830 [==============================] - 4s - loss: 0.7732 - acc: 0.7765     \n"
     ]
    },
    {
     "data": {
      "text/plain": [
       "<tensorflow.python.keras._impl.keras.callbacks.History at 0x7f74631ed790>"
      ]
     },
     "execution_count": 30,
     "metadata": {},
     "output_type": "execute_result"
    }
   ],
   "source": [
    "model.fit(X_train, y_train, epochs=5)"
   ]
  },
  {
   "cell_type": "markdown",
   "metadata": {},
   "source": [
    "# Prueba para los dos mejores métodos y comparacion con las predicciones"
   ]
  },
  {
   "cell_type": "code",
   "execution_count": 31,
   "metadata": {},
   "outputs": [
    {
     "name": "stdout",
     "output_type": "stream",
     "text": [
      "Número de fila que se le va a pasar al Predict  51325\n",
      "Valores de la fila que se le pasa el Predict  [ 5 27  1  2 45  3  4]\n",
      " \n",
      "PRUEBA PARA EL DesicionTree\n",
      "('valor predicho:', 5, 'ground truth: ', 5)\n",
      "La  clasificacion final predicha es:  5 - Traslado\n",
      "La  clasificacion final verdadera es:  5 - Traslado\n",
      " \n",
      "PRUEBA PARA EL RandomForest\n",
      "('valor predicho:', 5, 'ground truth: ', 5)\n",
      "La  clasificacion final predicha es:  5 - Traslado\n",
      "La  clasificacion final verdadera es:  5 - Traslado\n"
     ]
    }
   ],
   "source": [
    "## Individual predictions Desicion Tree\n",
    "index = np.random.randint(61039)\n",
    "print \"Número de fila que se le va a pasar al Predict \",index \n",
    "print \"Valores de la fila que se le pasa el Predict \",X[index]\n",
    "print \" \"\n",
    "print \"PRUEBA PARA EL DesicionTree\"\n",
    "predictions = estDT.predict(X[index].reshape(1,7))\n",
    "print(\"valor predicho:\",  predictions[0], \"ground truth: \", y[index])\n",
    "a=predictions[0]\n",
    "b=y[index]\n",
    "if (clas_final[\"Num_clasificacion_final\"][a-1]==str(a)):\n",
    "    print \"La  clasificacion final predicha es: \", clas_final[\"Num_clasificacion_final\"][a-1],\"-\",clas_final[\"Clasificacion_final\"][a-1]\n",
    "    print \"La  clasificacion final verdadera es: \", clas_final[\"Num_clasificacion_final\"][b-1],\"-\",clas_final[\"Clasificacion_final\"][b-1]\n",
    "print \" \"\n",
    "print \"PRUEBA PARA EL RandomForest\"\n",
    "##Prueba randomForest\n",
    "predictions = estRF.predict(X[index].reshape(1,7))\n",
    "print(\"valor predicho:\",  predictions[0], \"ground truth: \", y[index])\n",
    "a=predictions[0]\n",
    "b=y[index]\n",
    "if (clas_final[\"Num_clasificacion_final\"][a-1]==str(a)):\n",
    "    print \"La  clasificacion final predicha es: \", clas_final[\"Num_clasificacion_final\"][a-1],\"-\",clas_final[\"Clasificacion_final\"][a-1]\n",
    "    print \"La  clasificacion final verdadera es: \", clas_final[\"Num_clasificacion_final\"][b-1],\"-\",clas_final[\"Clasificacion_final\"][b-1]\n"
   ]
  },
  {
   "cell_type": "code",
   "execution_count": 32,
   "metadata": {},
   "outputs": [
    {
     "data": {
      "text/html": [
       "<div>\n",
       "<style scoped>\n",
       "    .dataframe tbody tr th:only-of-type {\n",
       "        vertical-align: middle;\n",
       "    }\n",
       "\n",
       "    .dataframe tbody tr th {\n",
       "        vertical-align: top;\n",
       "    }\n",
       "\n",
       "    .dataframe thead th {\n",
       "        text-align: right;\n",
       "    }\n",
       "</style>\n",
       "<table border=\"1\" class=\"dataframe\">\n",
       "  <thead>\n",
       "    <tr style=\"text-align: right;\">\n",
       "      <th></th>\n",
       "      <th>COD_LOCALIDAD</th>\n",
       "      <th>EDAD</th>\n",
       "      <th>UNIDAD</th>\n",
       "      <th>GENERO</th>\n",
       "      <th>TIPO_INCIDENTE</th>\n",
       "      <th>PRIORIDAD</th>\n",
       "      <th>MES</th>\n",
       "      <th>CLASIFICACION_FINAL</th>\n",
       "    </tr>\n",
       "  </thead>\n",
       "  <tbody>\n",
       "    <tr>\n",
       "      <th>51325</th>\n",
       "      <td>5</td>\n",
       "      <td>27</td>\n",
       "      <td>1</td>\n",
       "      <td>2</td>\n",
       "      <td>45</td>\n",
       "      <td>3</td>\n",
       "      <td>4</td>\n",
       "      <td>5</td>\n",
       "    </tr>\n",
       "  </tbody>\n",
       "</table>\n",
       "</div>"
      ],
      "text/plain": [
       "       COD_LOCALIDAD  EDAD  UNIDAD  GENERO  TIPO_INCIDENTE  PRIORIDAD  MES  \\\n",
       "51325              5    27       1       2              45          3    4   \n",
       "\n",
       "       CLASIFICACION_FINAL  \n",
       "51325                    5  "
      ]
     },
     "execution_count": 32,
     "metadata": {},
     "output_type": "execute_result"
    }
   ],
   "source": [
    "prueba2[index:index+1]\n"
   ]
  },
  {
   "cell_type": "code",
   "execution_count": 33,
   "metadata": {},
   "outputs": [
    {
     "data": {
      "text/html": [
       "<div>\n",
       "<style scoped>\n",
       "    .dataframe tbody tr th:only-of-type {\n",
       "        vertical-align: middle;\n",
       "    }\n",
       "\n",
       "    .dataframe tbody tr th {\n",
       "        vertical-align: top;\n",
       "    }\n",
       "\n",
       "    .dataframe thead th {\n",
       "        text-align: right;\n",
       "    }\n",
       "</style>\n",
       "<table border=\"1\" class=\"dataframe\">\n",
       "  <thead>\n",
       "    <tr style=\"text-align: right;\">\n",
       "      <th></th>\n",
       "      <th>COD_LOCALIDAD</th>\n",
       "      <th>EDAD</th>\n",
       "      <th>UNIDAD</th>\n",
       "      <th>GENERO</th>\n",
       "      <th>TIPO_INCIDENTE</th>\n",
       "      <th>PRIORIDAD</th>\n",
       "      <th>MES</th>\n",
       "      <th>CLASIFICACION_FINAL</th>\n",
       "    </tr>\n",
       "  </thead>\n",
       "  <tbody>\n",
       "    <tr>\n",
       "      <th>51325</th>\n",
       "      <td>5</td>\n",
       "      <td>27</td>\n",
       "      <td>Años</td>\n",
       "      <td>FEMENINO</td>\n",
       "      <td>Patología Gineco - obstétrica</td>\n",
       "      <td>ALTA</td>\n",
       "      <td>ABRIL</td>\n",
       "      <td>Traslado</td>\n",
       "    </tr>\n",
       "  </tbody>\n",
       "</table>\n",
       "</div>"
      ],
      "text/plain": [
       "       COD_LOCALIDAD  EDAD UNIDAD    GENERO                 TIPO_INCIDENTE  \\\n",
       "51325              5    27   Años  FEMENINO  Patología Gineco - obstétrica   \n",
       "\n",
       "      PRIORIDAD    MES CLASIFICACION_FINAL  \n",
       "51325      ALTA  ABRIL            Traslado  "
      ]
     },
     "execution_count": 33,
     "metadata": {},
     "output_type": "execute_result"
    }
   ],
   "source": [
    "P_result[index:index+1]"
   ]
  },
  {
   "cell_type": "markdown",
   "metadata": {},
   "source": [
    "# Ahora con el dataset PRUEBA con los elementos \"SIN_DATO\" incluidos\n",
    "### En esta parte usamos el mismo el dataset inicial. Todas las filas que contienen el valor de \"SIN_DATO\" no fueron eliminadas, seguidamente se procede a realizar los mismos tratamientos que en la primera parte, Esto con el fin de afienzar las concluiones del proyecto."
   ]
  },
  {
   "cell_type": "code",
   "execution_count": 34,
   "metadata": {},
   "outputs": [],
   "source": [
    "prueba = prueba.drop(prueba[prueba['PRIORIDAD']=='0'].index)"
   ]
  },
  {
   "cell_type": "code",
   "execution_count": 35,
   "metadata": {},
   "outputs": [
    {
     "name": "stdout",
     "output_type": "stream",
     "text": [
      "<class 'pandas.core.frame.DataFrame'>\n",
      "Int64Index: 113115 entries, 0 to 113138\n",
      "Data columns (total 8 columns):\n",
      "COD_LOCALIDAD          113115 non-null int64\n",
      "EDAD                   113115 non-null object\n",
      "UNIDAD                 113115 non-null object\n",
      "GENERO                 113115 non-null object\n",
      "TIPO_INCIDENTE         113115 non-null object\n",
      "PRIORIDAD              113087 non-null object\n",
      "MES                    113115 non-null object\n",
      "CLASIFICACION_FINAL    113115 non-null object\n",
      "dtypes: int64(1), object(7)\n",
      "memory usage: 7.8+ MB\n"
     ]
    },
    {
     "data": {
      "text/html": [
       "<div>\n",
       "<style scoped>\n",
       "    .dataframe tbody tr th:only-of-type {\n",
       "        vertical-align: middle;\n",
       "    }\n",
       "\n",
       "    .dataframe tbody tr th {\n",
       "        vertical-align: top;\n",
       "    }\n",
       "\n",
       "    .dataframe thead th {\n",
       "        text-align: right;\n",
       "    }\n",
       "</style>\n",
       "<table border=\"1\" class=\"dataframe\">\n",
       "  <thead>\n",
       "    <tr style=\"text-align: right;\">\n",
       "      <th></th>\n",
       "      <th>COD_LOCALIDAD</th>\n",
       "      <th>EDAD</th>\n",
       "      <th>UNIDAD</th>\n",
       "      <th>GENERO</th>\n",
       "      <th>TIPO_INCIDENTE</th>\n",
       "      <th>PRIORIDAD</th>\n",
       "      <th>MES</th>\n",
       "      <th>CLASIFICACION_FINAL</th>\n",
       "    </tr>\n",
       "  </thead>\n",
       "  <tbody>\n",
       "    <tr>\n",
       "      <th>0</th>\n",
       "      <td>11</td>\n",
       "      <td>SIN_DATO</td>\n",
       "      <td>SIN_DATO</td>\n",
       "      <td>SIN_DATO</td>\n",
       "      <td>Lesiones personales</td>\n",
       "      <td>ALTA</td>\n",
       "      <td>ENERO</td>\n",
       "      <td>Cancelado</td>\n",
       "    </tr>\n",
       "    <tr>\n",
       "      <th>1</th>\n",
       "      <td>16</td>\n",
       "      <td>SIN_DATO</td>\n",
       "      <td>SIN_DATO</td>\n",
       "      <td>SIN_DATO</td>\n",
       "      <td>Accidente de tránsito con heridos/Muertos</td>\n",
       "      <td>ALTA</td>\n",
       "      <td>ENERO</td>\n",
       "      <td>Cancelado</td>\n",
       "    </tr>\n",
       "    <tr>\n",
       "      <th>2</th>\n",
       "      <td>3</td>\n",
       "      <td>51</td>\n",
       "      <td>Años</td>\n",
       "      <td>FEMENINO</td>\n",
       "      <td>Dolor torácico</td>\n",
       "      <td>ALTA</td>\n",
       "      <td>ENERO</td>\n",
       "      <td>Traslado</td>\n",
       "    </tr>\n",
       "    <tr>\n",
       "      <th>3</th>\n",
       "      <td>10</td>\n",
       "      <td>SIN_DATO</td>\n",
       "      <td>SIN_DATO</td>\n",
       "      <td>SIN_DATO</td>\n",
       "      <td>Inconsciente/Paro Cardiorrespiratorio</td>\n",
       "      <td>ALTA</td>\n",
       "      <td>ENERO</td>\n",
       "      <td>Falsa Alarma</td>\n",
       "    </tr>\n",
       "    <tr>\n",
       "      <th>4</th>\n",
       "      <td>8</td>\n",
       "      <td>SIN_DATO</td>\n",
       "      <td>SIN_DATO</td>\n",
       "      <td>SIN_DATO</td>\n",
       "      <td>Herido con pólvora</td>\n",
       "      <td>ALTA</td>\n",
       "      <td>ENERO</td>\n",
       "      <td>Cancelado</td>\n",
       "    </tr>\n",
       "  </tbody>\n",
       "</table>\n",
       "</div>"
      ],
      "text/plain": [
       "   COD_LOCALIDAD      EDAD    UNIDAD    GENERO  \\\n",
       "0             11  SIN_DATO  SIN_DATO  SIN_DATO   \n",
       "1             16  SIN_DATO  SIN_DATO  SIN_DATO   \n",
       "2              3        51      Años  FEMENINO   \n",
       "3             10  SIN_DATO  SIN_DATO  SIN_DATO   \n",
       "4              8  SIN_DATO  SIN_DATO  SIN_DATO   \n",
       "\n",
       "                              TIPO_INCIDENTE PRIORIDAD    MES  \\\n",
       "0                        Lesiones personales      ALTA  ENERO   \n",
       "1  Accidente de tránsito con heridos/Muertos      ALTA  ENERO   \n",
       "2                             Dolor torácico      ALTA  ENERO   \n",
       "3     Inconsciente/Paro Cardiorrespiratorio       ALTA  ENERO   \n",
       "4                         Herido con pólvora      ALTA  ENERO   \n",
       "\n",
       "  CLASIFICACION_FINAL  \n",
       "0           Cancelado  \n",
       "1           Cancelado  \n",
       "2            Traslado  \n",
       "3        Falsa Alarma  \n",
       "4           Cancelado  "
      ]
     },
     "execution_count": 35,
     "metadata": {},
     "output_type": "execute_result"
    }
   ],
   "source": [
    "prueba.info()\n",
    "prueba.head()"
   ]
  },
  {
   "cell_type": "code",
   "execution_count": 36,
   "metadata": {},
   "outputs": [
    {
     "name": "stdout",
     "output_type": "stream",
     "text": [
      "<class 'pandas.core.frame.DataFrame'>\n",
      "Int64Index: 113087 entries, 0 to 113138\n",
      "Data columns (total 8 columns):\n",
      "COD_LOCALIDAD          113087 non-null int64\n",
      "EDAD                   113087 non-null object\n",
      "UNIDAD                 113087 non-null object\n",
      "GENERO                 113087 non-null object\n",
      "TIPO_INCIDENTE         113087 non-null object\n",
      "PRIORIDAD              113087 non-null object\n",
      "MES                    113087 non-null object\n",
      "CLASIFICACION_FINAL    113087 non-null object\n",
      "dtypes: int64(1), object(7)\n",
      "memory usage: 7.8+ MB\n",
      "None\n"
     ]
    },
    {
     "data": {
      "text/html": [
       "<div>\n",
       "<style scoped>\n",
       "    .dataframe tbody tr th:only-of-type {\n",
       "        vertical-align: middle;\n",
       "    }\n",
       "\n",
       "    .dataframe tbody tr th {\n",
       "        vertical-align: top;\n",
       "    }\n",
       "\n",
       "    .dataframe thead th {\n",
       "        text-align: right;\n",
       "    }\n",
       "</style>\n",
       "<table border=\"1\" class=\"dataframe\">\n",
       "  <thead>\n",
       "    <tr style=\"text-align: right;\">\n",
       "      <th></th>\n",
       "      <th>COD_LOCALIDAD</th>\n",
       "      <th>EDAD</th>\n",
       "      <th>UNIDAD</th>\n",
       "      <th>GENERO</th>\n",
       "      <th>TIPO_INCIDENTE</th>\n",
       "      <th>PRIORIDAD</th>\n",
       "      <th>MES</th>\n",
       "      <th>CLASIFICACION_FINAL</th>\n",
       "    </tr>\n",
       "  </thead>\n",
       "  <tbody>\n",
       "    <tr>\n",
       "      <th>0</th>\n",
       "      <td>11</td>\n",
       "      <td>SIN_DATO</td>\n",
       "      <td>SIN_DATO</td>\n",
       "      <td>SIN_DATO</td>\n",
       "      <td>Lesiones personales</td>\n",
       "      <td>ALTA</td>\n",
       "      <td>ENERO</td>\n",
       "      <td>Cancelado</td>\n",
       "    </tr>\n",
       "    <tr>\n",
       "      <th>1</th>\n",
       "      <td>16</td>\n",
       "      <td>SIN_DATO</td>\n",
       "      <td>SIN_DATO</td>\n",
       "      <td>SIN_DATO</td>\n",
       "      <td>Accidente de tránsito con heridos/Muertos</td>\n",
       "      <td>ALTA</td>\n",
       "      <td>ENERO</td>\n",
       "      <td>Cancelado</td>\n",
       "    </tr>\n",
       "    <tr>\n",
       "      <th>2</th>\n",
       "      <td>3</td>\n",
       "      <td>51</td>\n",
       "      <td>Años</td>\n",
       "      <td>FEMENINO</td>\n",
       "      <td>Dolor torácico</td>\n",
       "      <td>ALTA</td>\n",
       "      <td>ENERO</td>\n",
       "      <td>Traslado</td>\n",
       "    </tr>\n",
       "    <tr>\n",
       "      <th>3</th>\n",
       "      <td>10</td>\n",
       "      <td>SIN_DATO</td>\n",
       "      <td>SIN_DATO</td>\n",
       "      <td>SIN_DATO</td>\n",
       "      <td>Inconsciente/Paro Cardiorrespiratorio</td>\n",
       "      <td>ALTA</td>\n",
       "      <td>ENERO</td>\n",
       "      <td>Falsa Alarma</td>\n",
       "    </tr>\n",
       "    <tr>\n",
       "      <th>4</th>\n",
       "      <td>8</td>\n",
       "      <td>SIN_DATO</td>\n",
       "      <td>SIN_DATO</td>\n",
       "      <td>SIN_DATO</td>\n",
       "      <td>Herido con pólvora</td>\n",
       "      <td>ALTA</td>\n",
       "      <td>ENERO</td>\n",
       "      <td>Cancelado</td>\n",
       "    </tr>\n",
       "  </tbody>\n",
       "</table>\n",
       "</div>"
      ],
      "text/plain": [
       "   COD_LOCALIDAD      EDAD    UNIDAD    GENERO  \\\n",
       "0             11  SIN_DATO  SIN_DATO  SIN_DATO   \n",
       "1             16  SIN_DATO  SIN_DATO  SIN_DATO   \n",
       "2              3        51      Años  FEMENINO   \n",
       "3             10  SIN_DATO  SIN_DATO  SIN_DATO   \n",
       "4              8  SIN_DATO  SIN_DATO  SIN_DATO   \n",
       "\n",
       "                              TIPO_INCIDENTE PRIORIDAD    MES  \\\n",
       "0                        Lesiones personales      ALTA  ENERO   \n",
       "1  Accidente de tránsito con heridos/Muertos      ALTA  ENERO   \n",
       "2                             Dolor torácico      ALTA  ENERO   \n",
       "3     Inconsciente/Paro Cardiorrespiratorio       ALTA  ENERO   \n",
       "4                         Herido con pólvora      ALTA  ENERO   \n",
       "\n",
       "  CLASIFICACION_FINAL  \n",
       "0           Cancelado  \n",
       "1           Cancelado  \n",
       "2            Traslado  \n",
       "3        Falsa Alarma  \n",
       "4           Cancelado  "
      ]
     },
     "execution_count": 36,
     "metadata": {},
     "output_type": "execute_result"
    }
   ],
   "source": [
    "prueba = prueba.dropna(subset=[\"PRIORIDAD\"]) #eliminacion de datos nulos\n",
    "print prueba.info()\n",
    "prueba.head()"
   ]
  },
  {
   "cell_type": "code",
   "execution_count": 37,
   "metadata": {},
   "outputs": [
    {
     "name": "stdout",
     "output_type": "stream",
     "text": [
      "Valores nulos en <COD_LOCALIDAD>: 0\n",
      "Valores nulos en <EDAD>: 0\n",
      "Valores nulos en <UNIDAD>: 0\n",
      "Valores nulos en <GENERO>: 0\n",
      "Valores nulos en <TIPO_INCIDENTE>: 0\n",
      "Valores nulos en <PRIORIDAD>: 0\n",
      "Valores nulos en <MES>: 0\n",
      "Valores nulos en <CLASIFICACION_FINAL>: 0\n"
     ]
    }
   ],
   "source": [
    "col_names = prueba.columns.tolist()\n",
    "for column in col_names:\n",
    "    print \"Valores nulos en <{0}>: {1}\".format(column, prueba[column].isnull().sum())\n"
   ]
  },
  {
   "cell_type": "code",
   "execution_count": 38,
   "metadata": {},
   "outputs": [
    {
     "data": {
      "text/html": [
       "<div>\n",
       "<style scoped>\n",
       "    .dataframe tbody tr th:only-of-type {\n",
       "        vertical-align: middle;\n",
       "    }\n",
       "\n",
       "    .dataframe tbody tr th {\n",
       "        vertical-align: top;\n",
       "    }\n",
       "\n",
       "    .dataframe thead th {\n",
       "        text-align: right;\n",
       "    }\n",
       "</style>\n",
       "<table border=\"1\" class=\"dataframe\">\n",
       "  <thead>\n",
       "    <tr style=\"text-align: right;\">\n",
       "      <th></th>\n",
       "      <th>COD_LOCALIDAD</th>\n",
       "      <th>EDAD</th>\n",
       "      <th>UNIDAD</th>\n",
       "      <th>GENERO</th>\n",
       "      <th>TIPO_INCIDENTE</th>\n",
       "      <th>PRIORIDAD</th>\n",
       "      <th>MES</th>\n",
       "      <th>CLASIFICACION_FINAL</th>\n",
       "    </tr>\n",
       "  </thead>\n",
       "  <tbody>\n",
       "    <tr>\n",
       "      <th>0</th>\n",
       "      <td>11</td>\n",
       "      <td>SIN_DATO</td>\n",
       "      <td>SIN_DATO</td>\n",
       "      <td>SIN_DATO</td>\n",
       "      <td>Lesiones personales</td>\n",
       "      <td>ALTA</td>\n",
       "      <td>ENERO</td>\n",
       "      <td>Cancelado</td>\n",
       "    </tr>\n",
       "    <tr>\n",
       "      <th>1</th>\n",
       "      <td>16</td>\n",
       "      <td>SIN_DATO</td>\n",
       "      <td>SIN_DATO</td>\n",
       "      <td>SIN_DATO</td>\n",
       "      <td>Accidente de tránsito con heridos/Muertos</td>\n",
       "      <td>ALTA</td>\n",
       "      <td>ENERO</td>\n",
       "      <td>Cancelado</td>\n",
       "    </tr>\n",
       "    <tr>\n",
       "      <th>2</th>\n",
       "      <td>3</td>\n",
       "      <td>51</td>\n",
       "      <td>Años</td>\n",
       "      <td>FEMENINO</td>\n",
       "      <td>Dolor torácico</td>\n",
       "      <td>ALTA</td>\n",
       "      <td>ENERO</td>\n",
       "      <td>Traslado</td>\n",
       "    </tr>\n",
       "    <tr>\n",
       "      <th>3</th>\n",
       "      <td>10</td>\n",
       "      <td>SIN_DATO</td>\n",
       "      <td>SIN_DATO</td>\n",
       "      <td>SIN_DATO</td>\n",
       "      <td>Inconsciente/Paro Cardiorrespiratorio</td>\n",
       "      <td>ALTA</td>\n",
       "      <td>ENERO</td>\n",
       "      <td>Falsa Alarma</td>\n",
       "    </tr>\n",
       "    <tr>\n",
       "      <th>4</th>\n",
       "      <td>8</td>\n",
       "      <td>SIN_DATO</td>\n",
       "      <td>SIN_DATO</td>\n",
       "      <td>SIN_DATO</td>\n",
       "      <td>Herido con pólvora</td>\n",
       "      <td>ALTA</td>\n",
       "      <td>ENERO</td>\n",
       "      <td>Cancelado</td>\n",
       "    </tr>\n",
       "  </tbody>\n",
       "</table>\n",
       "</div>"
      ],
      "text/plain": [
       "   COD_LOCALIDAD      EDAD    UNIDAD    GENERO  \\\n",
       "0             11  SIN_DATO  SIN_DATO  SIN_DATO   \n",
       "1             16  SIN_DATO  SIN_DATO  SIN_DATO   \n",
       "2              3        51      Años  FEMENINO   \n",
       "3             10  SIN_DATO  SIN_DATO  SIN_DATO   \n",
       "4              8  SIN_DATO  SIN_DATO  SIN_DATO   \n",
       "\n",
       "                              TIPO_INCIDENTE PRIORIDAD    MES  \\\n",
       "0                        Lesiones personales      ALTA  ENERO   \n",
       "1  Accidente de tránsito con heridos/Muertos      ALTA  ENERO   \n",
       "2                             Dolor torácico      ALTA  ENERO   \n",
       "3     Inconsciente/Paro Cardiorrespiratorio       ALTA  ENERO   \n",
       "4                         Herido con pólvora      ALTA  ENERO   \n",
       "\n",
       "  CLASIFICACION_FINAL  \n",
       "0           Cancelado  \n",
       "1           Cancelado  \n",
       "2            Traslado  \n",
       "3        Falsa Alarma  \n",
       "4           Cancelado  "
      ]
     },
     "execution_count": 38,
     "metadata": {},
     "output_type": "execute_result"
    }
   ],
   "source": [
    "P_resulF=prueba.copy()\n",
    "prueba.head(5)"
   ]
  },
  {
   "cell_type": "code",
   "execution_count": 39,
   "metadata": {},
   "outputs": [
    {
     "name": "stdout",
     "output_type": "stream",
     "text": [
      "GENERO\n",
      "FEMENINO     29231\n",
      "MASCULINO    31911\n",
      "SIN_DATO     51945\n",
      "dtype: int64\n",
      "MES\n",
      "ABRIL      27424\n",
      "ENERO      13097\n",
      "FEBRERO    26530\n",
      "MARZO      31112\n",
      "MAYO       14924\n",
      "dtype: int64\n",
      "CLASIFICACION_FINAL\n",
      "Cancelado                      25507\n",
      "Desistimiento                   7409\n",
      "FALSA AL                           4\n",
      "Fallecido                       1621\n",
      "Falsa Alarma                    9005\n",
      "No Amerita Traslado             3567\n",
      "No Ubica                        1723\n",
      "Trasladado por Otro            13570\n",
      "Trasladado por Otro Recurso     3201\n",
      "Traslado                       47480\n",
      "dtype: int64\n",
      "PRIORIDAD\n",
      "ALTA        90057\n",
      "BAJA         1768\n",
      "MEDIA       21172\n",
      "SIN_DATO       90\n",
      "dtype: int64\n",
      "EDAD\n",
      "1             147\n",
      "10            212\n",
      "11            265\n",
      "12            296\n",
      "13            427\n",
      "14            470\n",
      "15            640\n",
      "16            819\n",
      "17            981\n",
      "18           1096\n",
      "19           1231\n",
      "2             247\n",
      "20           1399\n",
      "21           1245\n",
      "22           1624\n",
      "23           1456\n",
      "24           1363\n",
      "25           1307\n",
      "26           1183\n",
      "27           1052\n",
      "28           1132\n",
      "29            940\n",
      "3             234\n",
      "30           1101\n",
      "31            755\n",
      "32            911\n",
      "33            779\n",
      "34            736\n",
      "35            772\n",
      "36            739\n",
      "            ...  \n",
      "73            571\n",
      "74            624\n",
      "75            616\n",
      "76            617\n",
      "77            531\n",
      "78            793\n",
      "79            629\n",
      "8             223\n",
      "80            665\n",
      "81            596\n",
      "82            749\n",
      "83            734\n",
      "84            772\n",
      "85            635\n",
      "86            673\n",
      "87            584\n",
      "88            570\n",
      "89            552\n",
      "9             277\n",
      "90            456\n",
      "91            330\n",
      "92            391\n",
      "93            291\n",
      "94            220\n",
      "95            174\n",
      "96            151\n",
      "97            106\n",
      "98            106\n",
      "99            159\n",
      "SIN_DATO    51947\n",
      "Length: 100, dtype: int64\n",
      "UNIDAD\n",
      "AÑOS            2\n",
      "Años        60418\n",
      "Dias           67\n",
      "Horas          57\n",
      "Meses         590\n",
      "SIN_DATO    51947\n",
      "años            5\n",
      "meses           1\n",
      "dtype: int64\n",
      "COD_LOCALIDAD\n",
      "1      5949\n",
      "2      4447\n",
      "3      4106\n",
      "4      6005\n",
      "5      4809\n",
      "6      3721\n",
      "7      8044\n",
      "8     12977\n",
      "9      4852\n",
      "10    11824\n",
      "11    12140\n",
      "12     3928\n",
      "13     3587\n",
      "14     3837\n",
      "15     2462\n",
      "16     5928\n",
      "17      790\n",
      "18     5879\n",
      "19     7789\n",
      "20       13\n",
      "dtype: int64\n",
      "TIPO_INCIDENTE\n",
      "Abejas                                           4\n",
      "Abrir domicilio                                 40\n",
      "Accidente Tránsito Simple                       70\n",
      "Accidente cerebro vascular                    2804\n",
      "Accidente de tránsito con heridos/Muertos    27533\n",
      "Amenaza de Ruina                                16\n",
      "Animal Atrapado                                  2\n",
      "Animal Peligroso                                 5\n",
      "Atraco / Hurto en Proces                        42\n",
      "Caída                                         2577\n",
      "Convulsiones                                  7972\n",
      "DAÑOS EN SERVICIOS                               1\n",
      "Delincuente capturado por civil                  6\n",
      "Deslizamiento                                   24\n",
      "Dificultad Respiratoria                      11541\n",
      "Disparos                                        15\n",
      "Dolor torácico                                4763\n",
      "Electrocución / Rescate                         92\n",
      "Elemento caído y/o en peligro de caer.          30\n",
      "Embriaguez                                      50\n",
      "Enfermo                                       9542\n",
      "Explosión                                      113\n",
      "Extraviados / Desaparecidos                      4\n",
      "FALLECIDO                                        2\n",
      "Fuga de Gas Natural o Propano                   65\n",
      "Habitante de la Calle                            9\n",
      "Hallazgo de Explosivos                           4\n",
      "Herido con pólvora                               4\n",
      "Heridos                                       6147\n",
      "Hurto Efectuado                                 13\n",
      "                                             ...  \n",
      "Lesiones personales                           4682\n",
      "MATPEL (Materiales peligrosos)                  39\n",
      "Maltrato                                        28\n",
      "Manifestación / Motín                           96\n",
      "Menor o persona Abandonada                       8\n",
      "Muerte Natural                                 262\n",
      "Muerto                                          18\n",
      "NARCOTICOS                                       1\n",
      "PSICOLOGIA                                       1\n",
      "Patología Gineco - obstétrica                 3018\n",
      "Persona Pidiendo Auxilio                        67\n",
      "Persona o Vehículo Sospechoso                    2\n",
      "Persona tendida en la vía                       33\n",
      "Prevención                                       3\n",
      "Quemaduras                                     117\n",
      "Rapto / Secuestro                                2\n",
      "Rescates                                        72\n",
      "Rescates Montaña                                 4\n",
      "Riña                                           110\n",
      "SIN_DATO                                       145\n",
      "Sangrado Vaginal                               162\n",
      "Solicitud Apoyo / Desacato                     200\n",
      "Síntomas gastrointestinales                   3140\n",
      "Trastorno mental                              5482\n",
      "Vehiculo Hurtado                                 2\n",
      "Vehículo abandonado / mal estacionado            2\n",
      "Vehículo recuperado                              2\n",
      "Venta o Consumo alcohol u otro en Menor          2\n",
      "Verificar Situación                             24\n",
      "Violencia Sexual                               268\n",
      "Length: 71, dtype: int64\n"
     ]
    }
   ],
   "source": [
    "#Diferentes datos de todas las columnas\n",
    "print(prueba.groupby('GENERO').size())\n",
    "print(prueba.groupby('MES').size())\n",
    "print(prueba.groupby('CLASIFICACION_FINAL').size())\n",
    "print(prueba.groupby('PRIORIDAD').size())\n",
    "print(prueba.groupby('EDAD').size())\n",
    "print(prueba.groupby('UNIDAD').size())\n",
    "print(prueba.groupby('COD_LOCALIDAD').size())\n",
    "print(prueba.groupby('TIPO_INCIDENTE').size())"
   ]
  },
  {
   "cell_type": "markdown",
   "metadata": {},
   "source": [
    "### DATASET MODIFICADO"
   ]
  },
  {
   "cell_type": "code",
   "execution_count": 40,
   "metadata": {},
   "outputs": [
    {
     "data": {
      "text/html": [
       "<div>\n",
       "<style scoped>\n",
       "    .dataframe tbody tr th:only-of-type {\n",
       "        vertical-align: middle;\n",
       "    }\n",
       "\n",
       "    .dataframe tbody tr th {\n",
       "        vertical-align: top;\n",
       "    }\n",
       "\n",
       "    .dataframe thead th {\n",
       "        text-align: right;\n",
       "    }\n",
       "</style>\n",
       "<table border=\"1\" class=\"dataframe\">\n",
       "  <thead>\n",
       "    <tr style=\"text-align: right;\">\n",
       "      <th></th>\n",
       "      <th>COD_LOCALIDAD</th>\n",
       "      <th>EDAD</th>\n",
       "      <th>UNIDAD</th>\n",
       "      <th>GENERO</th>\n",
       "      <th>TIPO_INCIDENTE</th>\n",
       "      <th>PRIORIDAD</th>\n",
       "      <th>MES</th>\n",
       "      <th>CLASIFICACION_FINAL</th>\n",
       "    </tr>\n",
       "  </thead>\n",
       "  <tbody>\n",
       "    <tr>\n",
       "      <th>0</th>\n",
       "      <td>11</td>\n",
       "      <td>0</td>\n",
       "      <td>0</td>\n",
       "      <td>0</td>\n",
       "      <td>38</td>\n",
       "      <td>3</td>\n",
       "      <td>1</td>\n",
       "      <td>6</td>\n",
       "    </tr>\n",
       "    <tr>\n",
       "      <th>1</th>\n",
       "      <td>16</td>\n",
       "      <td>0</td>\n",
       "      <td>0</td>\n",
       "      <td>0</td>\n",
       "      <td>4</td>\n",
       "      <td>3</td>\n",
       "      <td>1</td>\n",
       "      <td>6</td>\n",
       "    </tr>\n",
       "    <tr>\n",
       "      <th>2</th>\n",
       "      <td>3</td>\n",
       "      <td>51</td>\n",
       "      <td>1</td>\n",
       "      <td>2</td>\n",
       "      <td>16</td>\n",
       "      <td>3</td>\n",
       "      <td>1</td>\n",
       "      <td>5</td>\n",
       "    </tr>\n",
       "    <tr>\n",
       "      <th>3</th>\n",
       "      <td>10</td>\n",
       "      <td>0</td>\n",
       "      <td>0</td>\n",
       "      <td>0</td>\n",
       "      <td>35</td>\n",
       "      <td>3</td>\n",
       "      <td>1</td>\n",
       "      <td>8</td>\n",
       "    </tr>\n",
       "    <tr>\n",
       "      <th>4</th>\n",
       "      <td>8</td>\n",
       "      <td>0</td>\n",
       "      <td>0</td>\n",
       "      <td>0</td>\n",
       "      <td>26</td>\n",
       "      <td>3</td>\n",
       "      <td>1</td>\n",
       "      <td>6</td>\n",
       "    </tr>\n",
       "  </tbody>\n",
       "</table>\n",
       "</div>"
      ],
      "text/plain": [
       "   COD_LOCALIDAD EDAD  UNIDAD  GENERO  TIPO_INCIDENTE  PRIORIDAD  MES  \\\n",
       "0             11    0       0       0              38          3    1   \n",
       "1             16    0       0       0               4          3    1   \n",
       "2              3   51       1       2              16          3    1   \n",
       "3             10    0       0       0              35          3    1   \n",
       "4              8    0       0       0              26          3    1   \n",
       "\n",
       "   CLASIFICACION_FINAL  \n",
       "0                    6  \n",
       "1                    6  \n",
       "2                    5  \n",
       "3                    8  \n",
       "4                    6  "
      ]
     },
     "execution_count": 40,
     "metadata": {},
     "output_type": "execute_result"
    }
   ],
   "source": [
    "#genero\n",
    "prueba = prueba.replace({\"FEMENINO\": 2, \"MASCULINO\": 1}) \n",
    "#prioridad\n",
    "prueba = prueba.replace({\"BAJA\": 1, \"MEDIA\": 2, \"ALTA\": 3, \"SIN_DATO\": 0}) \n",
    "#unidad\n",
    "prueba = prueba.replace({\"AÑOS\": 1, \"Años\": 1, \"años\": 1, \"Meses\": 2, \"meses\": 2, \"Dias\": 3, \"Horas\": 4})\n",
    "#mes\n",
    "prueba = prueba.replace({\"ENERO\": 1, \"FEBRERO\": 2, \"MARZO\": 3, \"ABRIL\": 4, \"MAYO\": 5, \"JUNIO\": 6, \"JULIO\": 7, \"AGOSTO\": 8, \"SEPTIEMBRE\": 9, \"OCTUBRE\": 10, \"NOVIEMBRE\": 11, \"DICIEMBRE\": 12})\n",
    "#clasificacion final\n",
    "prueba = prueba.replace({\"Desistimiento\": 1, \"Fallecido\": 2, \"No Amerita Traslado\": 3, \"Trasladado por Otro Recurso\": 4, \"Trasladado por Otro\": 4,\"Traslado\": 5, \"Cancelado\": 6, \"No Ubica\": 7, \"FALSA AL\":8, \"Falsa Alarma\": 8})\n",
    "#tipo incidente\n",
    "prueba = prueba.replace({\"Abrir domicilio\": 1, \"Accidente Tránsito Simple\": 2, \"Accidente cerebro vascular \": 3, \"Accidente de tránsito con heridos/Muertos\": 4, \"Amenaza de Ruina\": 5,\n",
    "                        \"Animal Atrapado\": 6, \"Animal Peligroso\": 7, \"Atraco / Hurto en Proces\": 8, \"Caída \": 9, \"Convulsiones \": 10, \"DAÑOS EN SERVICIOS\": 11, \"Delincuente capturado por civil\": 12, \"Deslizamiento\": 13, \"Dificultad Respiratoria\": 14,\n",
    "                        \"Disparos\": 15, \"Dolor torácico\": 16, \"Electrocución / Rescate\": 17, \"Elemento caído y/o en peligro de caer.\": 18, \"Embriaguez\": 19, \"Enfermo\": 20, \"Explosión\": 21, \"Extraviados / Desaparecidos\": 22, \"FALLECIDO\": 23,\n",
    "                        \"Fuga de Gas Natural o Propano\": 24, \"Habitante de la Calle\": 25, \"Herido con pólvora\": 26, \"Heridos \": 27, \"Hurto Efectuado\": 28, \"Ideas de suicidio \": 29, \"Incendio\": 30, \"Incendio Vehicular\": 31, \n",
    "                        \"Incendio estructural\": 32, \"Incendio forestal\": 33, \"Incidente rescate acuático\": 34, \"Inconsciente/Paro Cardiorrespiratorio \": 35, \"Intento de suicidio\": 36, \"Intoxicaciones\": 37, \"Lesiones personales\": 38, \n",
    "                        \"MATPEL (Materiales peligrosos)\": 39, \"Maltrato            \": 40, \"Manifestación / Motín\": 41, \"Menor o persona Abandonada\": 42, \"Muerte Natural\": 43, \"Muerto\": 44, \"Patología Gineco - obstétrica\": 45, \"Persona Pidiendo Auxilio\": 46,\n",
    "                        \"Persona tendida en la vía\": 47, \"Prevención\": 48, \"Quemaduras\": 49, \"Rapto / Secuestro\": 50, \"Rescates\": 51, \"Rescates Montaña\": 52, \"Riña\": 53, \"Sangrado Vaginal\": 54, \"Solicitud Apoyo / Desacato\": 55, \"Síntomas gastrointestinales\": 56,\n",
    "                        \"Trastorno mental\": 57, \"Venta o Consumo alcohol u otro en Menor\": 58, \"Verificar Situación\": 59, \"Violencia Sexual    \": 60, \"Abejas\": 61, \"Hallazgo de Explosivos\": 62, \"Incendio con MATPEL\": 63, \"Inundación\": 64, \"NARCOTICOS\": 65,\n",
    "                        \"PSICOLOGIA\": 66, \"Persona o Vehículo Sospechoso\": 67, \"Vehiculo Hurtado\": 68, \"Vehículo abandonado / mal estacionado\": 69, \"Vehículo recuperado\": 70})\n",
    "\n",
    "#prueba = prueba.reset_index(drop=True)\n",
    "prueba.head()\n"
   ]
  },
  {
   "cell_type": "code",
   "execution_count": 41,
   "metadata": {},
   "outputs": [
    {
     "data": {
      "text/html": [
       "<div>\n",
       "<style scoped>\n",
       "    .dataframe tbody tr th:only-of-type {\n",
       "        vertical-align: middle;\n",
       "    }\n",
       "\n",
       "    .dataframe tbody tr th {\n",
       "        vertical-align: top;\n",
       "    }\n",
       "\n",
       "    .dataframe thead th {\n",
       "        text-align: right;\n",
       "    }\n",
       "</style>\n",
       "<table border=\"1\" class=\"dataframe\">\n",
       "  <thead>\n",
       "    <tr style=\"text-align: right;\">\n",
       "      <th></th>\n",
       "      <th>Numero_prioridad</th>\n",
       "      <th>Prioridad</th>\n",
       "    </tr>\n",
       "  </thead>\n",
       "  <tbody>\n",
       "    <tr>\n",
       "      <th>0</th>\n",
       "      <td>1</td>\n",
       "      <td>Baja</td>\n",
       "    </tr>\n",
       "    <tr>\n",
       "      <th>1</th>\n",
       "      <td>2</td>\n",
       "      <td>Media</td>\n",
       "    </tr>\n",
       "    <tr>\n",
       "      <th>2</th>\n",
       "      <td>3</td>\n",
       "      <td>Alta</td>\n",
       "    </tr>\n",
       "    <tr>\n",
       "      <th>3</th>\n",
       "      <td>0</td>\n",
       "      <td>Sin Dato</td>\n",
       "    </tr>\n",
       "  </tbody>\n",
       "</table>\n",
       "</div>"
      ],
      "text/plain": [
       "  Numero_prioridad Prioridad\n",
       "0                1      Baja\n",
       "1                2     Media\n",
       "2                3      Alta\n",
       "3                0  Sin Dato"
      ]
     },
     "execution_count": 41,
     "metadata": {},
     "output_type": "execute_result"
    }
   ],
   "source": [
    "prioridad = pd.Series(['Baja', 'Media', 'Alta', 'Sin Dato'])\n",
    "num_prioridad = pd.Series(['1', '2', '3', '0'])\n",
    "\n",
    "prioridad=pd.DataFrame({ 'Prioridad': prioridad, 'Numero_prioridad': num_prioridad})\n",
    "prioridad"
   ]
  },
  {
   "cell_type": "code",
   "execution_count": 42,
   "metadata": {},
   "outputs": [
    {
     "data": {
      "text/html": [
       "<div>\n",
       "<style scoped>\n",
       "    .dataframe tbody tr th:only-of-type {\n",
       "        vertical-align: middle;\n",
       "    }\n",
       "\n",
       "    .dataframe tbody tr th {\n",
       "        vertical-align: top;\n",
       "    }\n",
       "\n",
       "    .dataframe thead th {\n",
       "        text-align: right;\n",
       "    }\n",
       "</style>\n",
       "<table border=\"1\" class=\"dataframe\">\n",
       "  <thead>\n",
       "    <tr style=\"text-align: right;\">\n",
       "      <th></th>\n",
       "      <th>Genero</th>\n",
       "      <th>Numero_genero</th>\n",
       "    </tr>\n",
       "  </thead>\n",
       "  <tbody>\n",
       "    <tr>\n",
       "      <th>0</th>\n",
       "      <td>Masculino</td>\n",
       "      <td>1</td>\n",
       "    </tr>\n",
       "    <tr>\n",
       "      <th>1</th>\n",
       "      <td>Femenino</td>\n",
       "      <td>2</td>\n",
       "    </tr>\n",
       "    <tr>\n",
       "      <th>2</th>\n",
       "      <td>Sin dato</td>\n",
       "      <td>0</td>\n",
       "    </tr>\n",
       "  </tbody>\n",
       "</table>\n",
       "</div>"
      ],
      "text/plain": [
       "      Genero Numero_genero\n",
       "0  Masculino             1\n",
       "1   Femenino             2\n",
       "2   Sin dato             0"
      ]
     },
     "execution_count": 42,
     "metadata": {},
     "output_type": "execute_result"
    }
   ],
   "source": [
    "genero = pd.Series(['Masculino', 'Femenino' ,'Sin dato'])\n",
    "num_genero = pd.Series(['1', '2' , '0'])\n",
    "\n",
    "pd.DataFrame({ 'Genero': genero, 'Numero_genero': num_genero })"
   ]
  },
  {
   "cell_type": "code",
   "execution_count": 43,
   "metadata": {},
   "outputs": [
    {
     "data": {
      "text/html": [
       "<div>\n",
       "<style scoped>\n",
       "    .dataframe tbody tr th:only-of-type {\n",
       "        vertical-align: middle;\n",
       "    }\n",
       "\n",
       "    .dataframe tbody tr th {\n",
       "        vertical-align: top;\n",
       "    }\n",
       "\n",
       "    .dataframe thead th {\n",
       "        text-align: right;\n",
       "    }\n",
       "</style>\n",
       "<table border=\"1\" class=\"dataframe\">\n",
       "  <thead>\n",
       "    <tr style=\"text-align: right;\">\n",
       "      <th></th>\n",
       "      <th>Clasificacion_final</th>\n",
       "      <th>Num_clasificacion_final</th>\n",
       "    </tr>\n",
       "  </thead>\n",
       "  <tbody>\n",
       "    <tr>\n",
       "      <th>0</th>\n",
       "      <td>Desistimiento</td>\n",
       "      <td>1</td>\n",
       "    </tr>\n",
       "    <tr>\n",
       "      <th>1</th>\n",
       "      <td>Fallecido</td>\n",
       "      <td>2</td>\n",
       "    </tr>\n",
       "    <tr>\n",
       "      <th>2</th>\n",
       "      <td>No Amerita Traslado</td>\n",
       "      <td>3</td>\n",
       "    </tr>\n",
       "    <tr>\n",
       "      <th>3</th>\n",
       "      <td>Trasladado por Otro Recurso</td>\n",
       "      <td>4</td>\n",
       "    </tr>\n",
       "    <tr>\n",
       "      <th>4</th>\n",
       "      <td>Traslado</td>\n",
       "      <td>5</td>\n",
       "    </tr>\n",
       "    <tr>\n",
       "      <th>5</th>\n",
       "      <td>Cancelado</td>\n",
       "      <td>6</td>\n",
       "    </tr>\n",
       "    <tr>\n",
       "      <th>6</th>\n",
       "      <td>No Ubica</td>\n",
       "      <td>7</td>\n",
       "    </tr>\n",
       "    <tr>\n",
       "      <th>7</th>\n",
       "      <td>Falsa alarma</td>\n",
       "      <td>8</td>\n",
       "    </tr>\n",
       "  </tbody>\n",
       "</table>\n",
       "</div>"
      ],
      "text/plain": [
       "           Clasificacion_final Num_clasificacion_final\n",
       "0                Desistimiento                       1\n",
       "1                    Fallecido                       2\n",
       "2          No Amerita Traslado                       3\n",
       "3  Trasladado por Otro Recurso                       4\n",
       "4                     Traslado                       5\n",
       "5                    Cancelado                       6\n",
       "6                     No Ubica                       7\n",
       "7                 Falsa alarma                       8"
      ]
     },
     "execution_count": 43,
     "metadata": {},
     "output_type": "execute_result"
    }
   ],
   "source": [
    "clasificacion_final = pd.Series(['Desistimiento', 'Fallecido', 'No Amerita Traslado', 'Trasladado por Otro Recurso', 'Traslado', 'Cancelado', 'No Ubica', 'Falsa alarma'])\n",
    "num_clasificacion_final = pd.Series(['1', '2', '3', '4', '5', '6', '7', '8'])\n",
    "\n",
    "clas_final=pd.DataFrame({ 'Clasificacion_final': clasificacion_final, 'Num_clasificacion_final': num_clasificacion_final})\n",
    "clas_final"
   ]
  },
  {
   "cell_type": "code",
   "execution_count": 44,
   "metadata": {},
   "outputs": [
    {
     "name": "stdout",
     "output_type": "stream",
     "text": [
      "GENERO\n",
      "0    51945\n",
      "1    31911\n",
      "2    29231\n",
      "dtype: int64\n",
      "MES\n",
      "1    13097\n",
      "2    26530\n",
      "3    31112\n",
      "4    27424\n",
      "5    14924\n",
      "dtype: int64\n",
      "CLASIFICACION_FINAL\n",
      "1     7409\n",
      "2     1621\n",
      "3     3567\n",
      "4    16771\n",
      "5    47480\n",
      "6    25507\n",
      "7     1723\n",
      "8     9009\n",
      "dtype: int64\n",
      "PRIORIDAD\n",
      "0       90\n",
      "1     1768\n",
      "2    21172\n",
      "3    90057\n",
      "dtype: int64\n",
      "EDAD\n",
      "0     51947\n",
      "1       147\n",
      "10      212\n",
      "11      265\n",
      "12      296\n",
      "13      427\n",
      "14      470\n",
      "15      640\n",
      "16      819\n",
      "17      981\n",
      "18     1096\n",
      "19     1231\n",
      "2       247\n",
      "20     1399\n",
      "21     1245\n",
      "22     1624\n",
      "23     1456\n",
      "24     1363\n",
      "25     1307\n",
      "26     1183\n",
      "27     1052\n",
      "28     1132\n",
      "29      940\n",
      "3       234\n",
      "30     1101\n",
      "31      755\n",
      "32      911\n",
      "33      779\n",
      "34      736\n",
      "35      772\n",
      "      ...  \n",
      "72      603\n",
      "73      571\n",
      "74      624\n",
      "75      616\n",
      "76      617\n",
      "77      531\n",
      "78      793\n",
      "79      629\n",
      "8       223\n",
      "80      665\n",
      "81      596\n",
      "82      749\n",
      "83      734\n",
      "84      772\n",
      "85      635\n",
      "86      673\n",
      "87      584\n",
      "88      570\n",
      "89      552\n",
      "9       277\n",
      "90      456\n",
      "91      330\n",
      "92      391\n",
      "93      291\n",
      "94      220\n",
      "95      174\n",
      "96      151\n",
      "97      106\n",
      "98      106\n",
      "99      159\n",
      "Length: 100, dtype: int64\n",
      "UNIDAD\n",
      "0    51947\n",
      "1    60425\n",
      "2      591\n",
      "3       67\n",
      "4       57\n",
      "dtype: int64\n",
      "COD_LOCALIDAD\n",
      "1      5949\n",
      "2      4447\n",
      "3      4106\n",
      "4      6005\n",
      "5      4809\n",
      "6      3721\n",
      "7      8044\n",
      "8     12977\n",
      "9      4852\n",
      "10    11824\n",
      "11    12140\n",
      "12     3928\n",
      "13     3587\n",
      "14     3837\n",
      "15     2462\n",
      "16     5928\n",
      "17      790\n",
      "18     5879\n",
      "19     7789\n",
      "20       13\n",
      "dtype: int64\n",
      "TIPO_INCIDENTE\n",
      "0       145\n",
      "1        40\n",
      "2        70\n",
      "3      2804\n",
      "4     27533\n",
      "5        16\n",
      "6         2\n",
      "7         5\n",
      "8        42\n",
      "9      2577\n",
      "10     7972\n",
      "11        1\n",
      "12        6\n",
      "13       24\n",
      "14    11541\n",
      "15       15\n",
      "16     4763\n",
      "17       92\n",
      "18       30\n",
      "19       50\n",
      "20     9542\n",
      "21      113\n",
      "22        4\n",
      "23        2\n",
      "24       65\n",
      "25        9\n",
      "26        4\n",
      "27     6147\n",
      "28       13\n",
      "29      851\n",
      "      ...  \n",
      "41       96\n",
      "42        8\n",
      "43      262\n",
      "44       18\n",
      "45     3018\n",
      "46       67\n",
      "47       33\n",
      "48        3\n",
      "49      117\n",
      "50        2\n",
      "51       72\n",
      "52        4\n",
      "53      110\n",
      "54      162\n",
      "55      200\n",
      "56     3140\n",
      "57     5482\n",
      "58        2\n",
      "59       24\n",
      "60      268\n",
      "61        4\n",
      "62        4\n",
      "63       10\n",
      "64        5\n",
      "65        1\n",
      "66        1\n",
      "67        2\n",
      "68        2\n",
      "69        2\n",
      "70        2\n",
      "Length: 71, dtype: int64\n"
     ]
    }
   ],
   "source": [
    "print(prueba.groupby('GENERO').size())\n",
    "print(prueba.groupby('MES').size())\n",
    "print(prueba.groupby('CLASIFICACION_FINAL').size())\n",
    "print(prueba.groupby('PRIORIDAD').size())\n",
    "print(prueba.groupby('EDAD').size())\n",
    "print(prueba.groupby('UNIDAD').size())\n",
    "print(prueba.groupby('COD_LOCALIDAD').size())\n",
    "print(prueba.groupby('TIPO_INCIDENTE').size())"
   ]
  },
  {
   "cell_type": "code",
   "execution_count": 45,
   "metadata": {},
   "outputs": [],
   "source": [
    "prueba.EDAD = prueba.EDAD.astype(np.int)\n",
    "prueba.TIPO_INCIDENTE= prueba.TIPO_INCIDENTE.astype(np.int)"
   ]
  },
  {
   "cell_type": "code",
   "execution_count": 46,
   "metadata": {},
   "outputs": [
    {
     "name": "stdout",
     "output_type": "stream",
     "text": [
      "Index([u'COD_LOCALIDAD', u'EDAD', u'UNIDAD', u'GENERO', u'TIPO_INCIDENTE',\n",
      "       u'PRIORIDAD', u'MES', u'CLASIFICACION_FINAL'],\n",
      "      dtype='object') (113087, 8)\n",
      "<class 'pandas.core.frame.DataFrame'>\n",
      "<class 'pandas.core.frame.DataFrame'>\n",
      "Int64Index: 113087 entries, 0 to 113138\n",
      "Data columns (total 8 columns):\n",
      "COD_LOCALIDAD          113087 non-null int64\n",
      "EDAD                   113087 non-null int64\n",
      "UNIDAD                 113087 non-null int64\n",
      "GENERO                 113087 non-null int64\n",
      "TIPO_INCIDENTE         113087 non-null int64\n",
      "PRIORIDAD              113087 non-null int64\n",
      "MES                    113087 non-null int64\n",
      "CLASIFICACION_FINAL    113087 non-null int64\n",
      "dtypes: int64(8)\n",
      "memory usage: 7.8 MB\n",
      "None\n",
      "COD_LOCALIDAD 0\n",
      "EDAD 0\n",
      "UNIDAD 0\n",
      "GENERO 0\n",
      "TIPO_INCIDENTE 0\n",
      "PRIORIDAD 0\n",
      "MES 0\n",
      "CLASIFICACION_FINAL 0\n"
     ]
    }
   ],
   "source": [
    "print prueba.columns, prueba.shape\n",
    "\n",
    "print type(prueba)\n",
    "\n",
    "print prueba.info()\n",
    "\n",
    "#very important to clean values. \n",
    "for col in prueba.columns:\n",
    "    print col, np.sum(pd.isnull(prueba[col]))"
   ]
  },
  {
   "cell_type": "markdown",
   "metadata": {},
   "source": [
    "# A continuación sigue una serie de histogramas y gráficas que relacionan diferentes tipos de datos con el fin de comprender la relacion entre los mismos.\n",
    "\n",
    "## * De igual forma se usan probabilidades que ayuden con este objetivo."
   ]
  },
  {
   "cell_type": "code",
   "execution_count": 51,
   "metadata": {},
   "outputs": [
    {
     "data": {
      "image/png": "[encoded data removed]",
      "text/plain": [
       "<matplotlib.figure.Figure at 0x7f64d7fadc90>"
      ]
     },
     "metadata": {},
     "output_type": "display_data"
    }
   ],
   "source": [
    "prueba.hist(bins=60, density=False, figsize=(16,10));"
   ]
  },
  {
   "cell_type": "code",
   "execution_count": 52,
   "metadata": {},
   "outputs": [
    {
     "data": {
      "text/plain": [
       "array([[<matplotlib.axes._subplots.AxesSubplot object at 0x7f64d5d43e50>]], dtype=object)"
      ]
     },
     "execution_count": 52,
     "metadata": {},
     "output_type": "execute_result"
    },
    {
     "data": {
      "image/png": "[encoded data removed]",
      "text/plain": [
       "<matplotlib.figure.Figure at 0x7f64d7fb5ad0>"
      ]
     },
     "metadata": {},
     "output_type": "display_data"
    }
   ],
   "source": [
    "prueba.hist('PRIORIDAD')"
   ]
  },
  {
   "cell_type": "code",
   "execution_count": 53,
   "metadata": {},
   "outputs": [
    {
     "data": {
      "text/plain": [
       "Text(0.5,1,u'Histograma de edad incidentes con unidad anios')"
      ]
     },
     "execution_count": 53,
     "metadata": {},
     "output_type": "execute_result"
    },
    {
     "data": {
      "image/png": "[encoded data removed]",
      "text/plain": [
       "<matplotlib.figure.Figure at 0x7f64d5aee650>"
      ]
     },
     "metadata": {},
     "output_type": "display_data"
    }
   ],
   "source": [
    "prueba[prueba.UNIDAD==1].hist('EDAD', bins=60)\n",
    "plt.title(\"Histograma de edad incidentes con unidad anios\")"
   ]
  },
  {
   "cell_type": "code",
   "execution_count": 54,
   "metadata": {},
   "outputs": [
    {
     "data": {
      "text/plain": [
       "Text(0.5,1,u'Histograma de edad incidentes con unidad meses')"
      ]
     },
     "execution_count": 54,
     "metadata": {},
     "output_type": "execute_result"
    },
    {
     "data": {
      "image/png": "[encoded data removed]",
      "text/plain": [
       "<matplotlib.figure.Figure at 0x7f64d5554350>"
      ]
     },
     "metadata": {},
     "output_type": "display_data"
    }
   ],
   "source": [
    "prueba[prueba.UNIDAD==2].hist('EDAD', bins=80)\n",
    "plt.title(\"Histograma de edad incidentes con unidad meses\")"
   ]
  },
  {
   "cell_type": "code",
   "execution_count": 55,
   "metadata": {},
   "outputs": [
    {
     "data": {
      "text/plain": [
       "Text(0.5,1,u'Histograma de edad incidentes con unidad horas')"
      ]
     },
     "execution_count": 55,
     "metadata": {},
     "output_type": "execute_result"
    },
    {
     "data": {
      "image/png": "[encoded data removed]",
      "text/plain": [
       "<matplotlib.figure.Figure at 0x7f64d5554790>"
      ]
     },
     "metadata": {},
     "output_type": "display_data"
    },
    {
     "data": {
      "image/png": "[encoded data removed]",
      "text/plain": [
       "<matplotlib.figure.Figure at 0x7f64d5280490>"
      ]
     },
     "metadata": {},
     "output_type": "display_data"
    }
   ],
   "source": [
    "prueba[prueba.UNIDAD==3].hist('EDAD', bins=85)\n",
    "plt.title(\"Histograma de edad incidentes con unidad dias\")\n",
    "prueba[prueba.UNIDAD==4].hist('EDAD', bins=30)\n",
    "plt.title(\"Histograma de edad incidentes con unidad horas\")"
   ]
  },
  {
   "cell_type": "code",
   "execution_count": 56,
   "metadata": {},
   "outputs": [
    {
     "data": {
      "image/png": "[encoded data removed]",
      "text/plain": [
       "<matplotlib.figure.Figure at 0x7f64d51df250>"
      ]
     },
     "metadata": {},
     "output_type": "display_data"
    }
   ],
   "source": [
    "fig=plt.figure(figsize=(10,5))\n",
    "prueba.MES[prueba.CLASIFICACION_FINAL==2].value_counts().plot(kind='bar', alpha=0.5)\n",
    "plt.title('Numero de fallecidos por mes')\n",
    "plt.show()\n"
   ]
  },
  {
   "cell_type": "code",
   "execution_count": 57,
   "metadata": {},
   "outputs": [
    {
     "data": {
      "image/png": "[encoded data removed]",
      "text/plain": [
       "<matplotlib.figure.Figure at 0x7f64d5063ad0>"
      ]
     },
     "metadata": {},
     "output_type": "display_data"
    }
   ],
   "source": [
    "fig=plt.figure(figsize=(10,5))\n",
    "prueba.MES[prueba.CLASIFICACION_FINAL==8].value_counts().plot(kind='bar', alpha=0.5)\n",
    "plt.title('Numero de falsas alarmas por mes')\n",
    "plt.show()"
   ]
  },
  {
   "cell_type": "code",
   "execution_count": 58,
   "metadata": {},
   "outputs": [
    {
     "data": {
      "image/png": "[encoded data removed]",
      "text/plain": [
       "<matplotlib.figure.Figure at 0x7f64d51eb4d0>"
      ]
     },
     "metadata": {},
     "output_type": "display_data"
    }
   ],
   "source": [
    "fig=plt.figure(figsize=(10,5))\n",
    "prueba.MES[prueba.COD_LOCALIDAD==2].value_counts().plot(kind='bar', alpha=0.5)\n",
    "plt.title('Numero de llamadas de emergencia en Chapinero por mes')\n",
    "plt.show()"
   ]
  },
  {
   "cell_type": "code",
   "execution_count": 59,
   "metadata": {},
   "outputs": [
    {
     "data": {
      "image/png": "[encoded data removed]",
      "text/plain": [
       "<matplotlib.figure.Figure at 0x7f64d4fa21d0>"
      ]
     },
     "metadata": {},
     "output_type": "display_data"
    }
   ],
   "source": [
    "fig=plt.figure(figsize=(10,5))\n",
    "prueba.TIPO_INCIDENTE[prueba.CLASIFICACION_FINAL==2].value_counts().plot(kind='bar', alpha=0.5)\n",
    "plt.title('Fallecidos en los diferentes tipos de incidente')\n",
    "plt.show()\n"
   ]
  },
  {
   "cell_type": "code",
   "execution_count": 60,
   "metadata": {},
   "outputs": [
    {
     "data": {
      "image/png": "[encoded data removed]",
      "text/plain": [
       "<matplotlib.figure.Figure at 0x7f64d4fcca90>"
      ]
     },
     "metadata": {},
     "output_type": "display_data"
    }
   ],
   "source": [
    "fig=plt.figure(figsize=(10,5))\n",
    "prueba.TIPO_INCIDENTE[prueba.CLASIFICACION_FINAL==3].value_counts().plot(kind='bar', alpha=0.5)\n",
    "plt.title('No amerita traslado en los diferentes tipos de incidente')\n",
    "plt.show()"
   ]
  },
  {
   "cell_type": "code",
   "execution_count": 61,
   "metadata": {},
   "outputs": [
    {
     "data": {
      "image/png": "[encoded data removed]",
      "text/plain": [
       "<matplotlib.figure.Figure at 0x7f64d52a5550>"
      ]
     },
     "metadata": {},
     "output_type": "display_data"
    }
   ],
   "source": [
    "fig=plt.figure(figsize=(10,5))\n",
    "prueba.TIPO_INCIDENTE[prueba.CLASIFICACION_FINAL==5].value_counts().plot(kind='bar', alpha=0.5)\n",
    "plt.title('Amerita traslado en los diferentes tipos de incidente')\n",
    "plt.show()"
   ]
  },
  {
   "cell_type": "code",
   "execution_count": 62,
   "metadata": {},
   "outputs": [
    {
     "data": {
      "image/png": "[encoded data removed]",
      "text/plain": [
       "<matplotlib.figure.Figure at 0x7f64d59142d0>"
      ]
     },
     "metadata": {},
     "output_type": "display_data"
    }
   ],
   "source": [
    "fig=plt.figure(figsize=(10,5))\n",
    "prueba.COD_LOCALIDAD[prueba.PRIORIDAD==3].value_counts().plot(kind='bar', alpha=0.5)\n",
    "plt.title('Localidades con sus prioridades altas')\n",
    "plt.show()"
   ]
  },
  {
   "cell_type": "code",
   "execution_count": 63,
   "metadata": {},
   "outputs": [
    {
     "data": {
      "image/png": "[encoded data removed]",
      "text/plain": [
       "<matplotlib.figure.Figure at 0x7f64d501d210>"
      ]
     },
     "metadata": {},
     "output_type": "display_data"
    }
   ],
   "source": [
    "pd.plotting.scatter_matrix(prueba, figsize=(10,10));"
   ]
  },
  {
   "cell_type": "markdown",
   "metadata": {},
   "source": [
    "### Probabilidad"
   ]
  },
  {
   "cell_type": "code",
   "execution_count": 64,
   "metadata": {},
   "outputs": [
    {
     "name": "stdout",
     "output_type": "stream",
     "text": [
      "0.115 0.107 0.007 0.080\n"
     ]
    }
   ],
   "source": [
    "p_0 = np.mean(prueba.COD_LOCALIDAD==8) #probabilidad de que la llamada sea desde Kennedy\n",
    "p_1 = np.mean(prueba.COD_LOCALIDAD==11) #probabilidad de que la llamada sea desde Suba\n",
    "p_2 = np.mean(prueba.COD_LOCALIDAD==17) #probabilidad de que la llamada sea desde La Candelaria\n",
    "p_3 = np.mean(prueba.CLASIFICACION_FINAL==8) #probabilidad de que la llamada sea Falsa alarma\n",
    "print \"%.3f %.3f %.3f %.3f\"%(p_0, p_1, p_2, p_3)"
   ]
  },
  {
   "cell_type": "code",
   "execution_count": 65,
   "metadata": {},
   "outputs": [
    {
     "name": "stdout",
     "output_type": "stream",
     "text": [
      "Prob. Trasladado en Kennedy: 0.256 Prob. Trasladado en Suba: 0.249 Prob. Trasladado en La Candelaria: 0.241\n"
     ]
    }
   ],
   "source": [
    "import scipy.stats as stats\n",
    "\n",
    "lengths0, lengths1, lengths2 = prueba[prueba.COD_LOCALIDAD==8].CLASIFICACION_FINAL, prueba[prueba.COD_LOCALIDAD==11].CLASIFICACION_FINAL, prueba[prueba.COD_LOCALIDAD==17].CLASIFICACION_FINAL \n",
    "\n",
    "pdf0 = stats.norm(loc=np.mean(lengths0), scale=np.std(lengths0)).pdf\n",
    "pdf1 = stats.norm(loc=np.mean(lengths1), scale=np.std(lengths1)).pdf\n",
    "pdf2 = stats.norm(loc=np.mean(lengths2), scale=np.std(lengths2)).pdf\n",
    "\n",
    "x=5  #X es que sea clasificacion final de trasladado\n",
    "p_x_given_0 = pdf0(x) #probabilidad de una clasificacion final X dado que el incidente ocurrio en Kennedy\n",
    "p_x_given_1 = pdf1(x) #probabilidad de una clasificacion final X dado que el incidente ocurrio en Suba\n",
    "p_x_given_2 = pdf2(x) #probabilidad de una clasificacion final X dado que el incidente ocurrio en La Candelaria\n",
    "print \"Prob. Trasladado en Kennedy: %.3f Prob. Trasladado en Suba: %.3f Prob. Trasladado en La Candelaria: %.3f\"%(p_x_given_0, p_x_given_1, p_x_given_2)"
   ]
  },
  {
   "cell_type": "code",
   "execution_count": 66,
   "metadata": {},
   "outputs": [
    {
     "name": "stdout",
     "output_type": "stream",
     "text": [
      "Probabilidad falsa alarma en Kennedy 0.041 Probabilidad falsa alarma en Suba: 0.044 Probabilidad falsa alarma en La Candelaria 0.048\n"
     ]
    }
   ],
   "source": [
    "import scipy.stats as stats\n",
    "\n",
    "lengths0, lengths1, lengths2 = prueba[prueba.COD_LOCALIDAD==8].CLASIFICACION_FINAL, prueba[prueba.COD_LOCALIDAD==11].CLASIFICACION_FINAL, prueba[prueba.COD_LOCALIDAD==17].CLASIFICACION_FINAL \n",
    "\n",
    "pdf0 = stats.norm(loc=np.mean(lengths0), scale=np.std(lengths0)).pdf\n",
    "pdf1 = stats.norm(loc=np.mean(lengths1), scale=np.std(lengths1)).pdf\n",
    "pdf2 = stats.norm(loc=np.mean(lengths2), scale=np.std(lengths2)).pdf\n",
    "\n",
    "x=8 #X es que sea clasificacion final de falsa alarma\n",
    "p_x_given_0 = pdf0(x) #probabilidad de una clasificacion final X dado que el incidente ocurrio en Kennedy\n",
    "p_x_given_1 = pdf1(x) #probabilidad de una clasificacion final X dado que el incidente ocurrio en Suba\n",
    "p_x_given_2 = pdf2(x) #probabilidad de una clasificacion final X dado que el incidente ocurrio en La Candelaria\n",
    "print \"Probabilidad falsa alarma en Kennedy %.3f Probabilidad falsa alarma en Suba: %.3f Probabilidad falsa alarma en La Candelaria %.3f\"%(p_x_given_0, p_x_given_1, p_x_given_2)"
   ]
  },
  {
   "cell_type": "code",
   "execution_count": 67,
   "metadata": {},
   "outputs": [
    {
     "name": "stdout",
     "output_type": "stream",
     "text": [
      "Prioridad alta dado que es hombre: 0.711 Prioridad alta dado que es mujer: 0.773 \n"
     ]
    }
   ],
   "source": [
    "import scipy.stats as stats\n",
    "\n",
    "lengths0, lengths1 = prueba[prueba.GENERO==1].PRIORIDAD, prueba[prueba.GENERO==2].PRIORIDAD \n",
    "\n",
    "pdf0 = stats.norm(loc=np.mean(lengths0), scale=np.std(lengths0)).pdf\n",
    "pdf1 = stats.norm(loc=np.mean(lengths1), scale=np.std(lengths1)).pdf\n",
    "\n",
    "x=3 #Prioridad alta\n",
    "p_x_given_0 = pdf0(x) #probabilidad de una prioridad alta x dado que es hombre\n",
    "p_x_given_1 = pdf1(x) #probabilidad de una prioridad alta x dado que es mujer\n",
    "print \"Prioridad alta dado que es hombre: %.3f Prioridad alta dado que es mujer: %.3f \"%(p_x_given_0, p_x_given_1)"
   ]
  },
  {
   "cell_type": "code",
   "execution_count": 68,
   "metadata": {},
   "outputs": [
    {
     "name": "stdout",
     "output_type": "stream",
     "text": [
      "Prob. Trasladado por dificultad respiratoria: 0.274 Prob. Trasladado por inconsciente/paro cardiorespiratorio: 0.237 Prob. Trasladado dado que esta enfermo: 0.266\n"
     ]
    }
   ],
   "source": [
    "import scipy.stats as stats\n",
    "\n",
    "lengths0, lengths1, lengths2 = prueba[prueba.TIPO_INCIDENTE==14].CLASIFICACION_FINAL, prueba[prueba.TIPO_INCIDENTE==35].CLASIFICACION_FINAL, prueba[prueba.TIPO_INCIDENTE==20].CLASIFICACION_FINAL \n",
    "\n",
    "pdf0 = stats.norm(loc=np.mean(lengths0), scale=np.std(lengths0)).pdf\n",
    "pdf1 = stats.norm(loc=np.mean(lengths1), scale=np.std(lengths1)).pdf\n",
    "pdf2 = stats.norm(loc=np.mean(lengths2), scale=np.std(lengths2)).pdf\n",
    "\n",
    "x=5  #X es que sea clasificacion final de trasladado\n",
    "p_x_given_0 = pdf0(x) #probabilidad de trasladado dado que el incidente es dificultad respiratoria\n",
    "p_x_given_1 = pdf1(x) #probabilidad de trasladado dado que el incidente es inconsciente/paro cardiorespiratorio\n",
    "p_x_given_2 = pdf2(x) #probabilidad de trasladado dado que esta enfermo\n",
    "\n",
    "print \"Prob. Trasladado por dificultad respiratoria: %.3f Prob. Trasladado por inconsciente/paro cardiorespiratorio: %.3f Prob. Trasladado dado que esta enfermo: %.3f\"%(p_x_given_0, p_x_given_1, p_x_given_2)"
   ]
  },
  {
   "cell_type": "markdown",
   "metadata": {},
   "source": [
    "### CLASIFICADORES"
   ]
  },
  {
   "cell_type": "code",
   "execution_count": 47,
   "metadata": {},
   "outputs": [],
   "source": [
    "X = prueba.values[:,:-1]\n",
    "y = prueba.values[:,-1]"
   ]
  },
  {
   "cell_type": "markdown",
   "metadata": {},
   "source": [
    "### Gaussian Naive Bayes, simple Bayes or independence Bayes."
   ]
  },
  {
   "cell_type": "code",
   "execution_count": 48,
   "metadata": {},
   "outputs": [
    {
     "name": "stdout",
     "output_type": "stream",
     "text": [
      "0.644\n"
     ]
    }
   ],
   "source": [
    "from sklearn.naive_bayes import GaussianNB\n",
    "estG = GaussianNB()\n",
    "\n",
    "estG.fit(X,y)\n",
    "predictions = estG.predict(X)\n",
    "print \"%.3f\"%accuracy_score(predictions, y)"
   ]
  },
  {
   "cell_type": "code",
   "execution_count": 49,
   "metadata": {},
   "outputs": [
    {
     "name": "stdout",
     "output_type": "stream",
     "text": [
      "[ 0.64700681  0.64214343  0.64506146  0.63966752  0.63869484  0.64930586\n",
      "  0.64355823  0.64494163  0.65051291  0.64140432]\n",
      "accuracy 0.644 (+/- 0.00372)\n"
     ]
    }
   ],
   "source": [
    "from sklearn.metrics import make_scorer, accuracy_score\n",
    "\n",
    "s = cross_val_score(GaussianNB(), X, y, cv=KFold(10, shuffle=True), scoring=make_scorer(accuracy_score))\n",
    "print s\n",
    "print \"accuracy %.3f (+/- %.5f)\"%(np.mean(s), np.std(s))"
   ]
  },
  {
   "cell_type": "code",
   "execution_count": 50,
   "metadata": {},
   "outputs": [
    {
     "name": "stdout",
     "output_type": "stream",
     "text": [
      "shape after PCA  (113087, 3)\n",
      "accuracy 0.624 (+/- 0.00278)\n"
     ]
    }
   ],
   "source": [
    "from sklearn.decomposition import PCA\n",
    "\n",
    "X = PCA(n_components=3).fit_transform(X)\n",
    "print \"shape after PCA \", X.shape\n",
    "s = cross_val_score(GaussianNB(), X, y, cv=KFold(10, shuffle=True), scoring=make_scorer(accuracy_score))\n",
    "print \"accuracy %.3f (+/- %.5f)\"%(np.mean(s), np.std(s))"
   ]
  },
  {
   "cell_type": "markdown",
   "metadata": {},
   "source": [
    "### Decision Tree classifier"
   ]
  },
  {
   "cell_type": "code",
   "execution_count": 51,
   "metadata": {},
   "outputs": [
    {
     "name": "stdout",
     "output_type": "stream",
     "text": [
      "accuracy 0.671 (+/- 0.00393)\n"
     ]
    },
    {
     "data": {
      "text/plain": [
       "array([ 0.12492611,  0.13758884,  0.00195691,  0.55886612,  0.06767532,\n",
       "        0.02014862,  0.08883809])"
      ]
     },
     "execution_count": 51,
     "metadata": {},
     "output_type": "execute_result"
    }
   ],
   "source": [
    "from sklearn.tree import DecisionTreeClassifier\n",
    "X = prueba.values[:,:-1]\n",
    "y = prueba.values[:,-1]\n",
    "estDT = DecisionTreeClassifier()\n",
    "s = cross_val_score(estDT, X, y, cv=KFold(10, shuffle=True), scoring=make_scorer(accuracy_score))\n",
    "print \"accuracy %.3f (+/- %.5f)\"%(np.mean(s), np.std(s))\n",
    "\n",
    "estDT.fit(X,y)\n",
    "estDT.feature_importances_"
   ]
  },
  {
   "cell_type": "markdown",
   "metadata": {},
   "source": [
    "### Random Forest classifier"
   ]
  },
  {
   "cell_type": "code",
   "execution_count": 52,
   "metadata": {},
   "outputs": [
    {
     "name": "stdout",
     "output_type": "stream",
     "text": [
      "accuracy 0.682 (+/- 0.00176)\n"
     ]
    },
    {
     "data": {
      "text/plain": [
       "RandomForestClassifier(bootstrap=True, class_weight=None, criterion='gini',\n",
       "            max_depth=None, max_features='auto', max_leaf_nodes=None,\n",
       "            min_impurity_decrease=0.0, min_impurity_split=None,\n",
       "            min_samples_leaf=1, min_samples_split=2,\n",
       "            min_weight_fraction_leaf=0.0, n_estimators=10, n_jobs=1,\n",
       "            oob_score=False, random_state=None, verbose=0,\n",
       "            warm_start=False)"
      ]
     },
     "execution_count": 52,
     "metadata": {},
     "output_type": "execute_result"
    }
   ],
   "source": [
    "from sklearn.ensemble import RandomForestClassifier\n",
    "X = prueba.values[:,:-1]\n",
    "y = prueba.values[:,-1]\n",
    "estRF = RandomForestClassifier()\n",
    "s = cross_val_score(estRF, X, y, cv=KFold(10, shuffle=True), scoring=make_scorer(accuracy_score))\n",
    "print \"accuracy %.3f (+/- %.5f)\"%(np.mean(s), np.std(s))\n",
    "estRF.fit(X,y)"
   ]
  },
  {
   "cell_type": "code",
   "execution_count": 75,
   "metadata": {},
   "outputs": [
    {
     "data": {
      "image/png": "[encoded data removed]",
      "text/plain": [
       "<matplotlib.figure.Figure at 0x7f64e2a19fd0>"
      ]
     },
     "metadata": {},
     "output_type": "display_data"
    }
   ],
   "source": [
    "estimadores=[GaussianNB(),DecisionTreeClassifier(),RandomForestClassifier()]\n",
    "C=[\"GaussianNB()\",\"DecisionTreeClassifier()\",\"RandomForestClassifier()\"]\n",
    "plt.figure(figsize=(17,4))\n",
    "for i,este in enumerate(estimadores):\n",
    "    plt.subplot(1,3,i+1)\n",
    "    plt.title(C[i])\n",
    "    show_curve(este,X,y)"
   ]
  },
  {
   "cell_type": "markdown",
   "metadata": {},
   "source": [
    "### KNN: K-Nearest Neighbors"
   ]
  },
  {
   "cell_type": "code",
   "execution_count": 53,
   "metadata": {},
   "outputs": [
    {
     "name": "stdout",
     "output_type": "stream",
     "text": [
      "(90469, 7) (22618, 7) (90469,) (22618,)\n"
     ]
    },
    {
     "data": {
      "text/plain": [
       "0.62591741091166331"
      ]
     },
     "execution_count": 53,
     "metadata": {},
     "output_type": "execute_result"
    }
   ],
   "source": [
    "from sklearn.neighbors import KNeighborsClassifier #Importamos al método \n",
    "from sklearn.datasets import load_iris #Importamos el conjunto de datos\n",
    "from sklearn.model_selection import train_test_split \n",
    "\n",
    "X = prueba.values[:,:-1]\n",
    "y = prueba.values[:,-1]\n",
    "\n",
    "#Dividimos nuestros datos en \"conjunto de entrenamiento y de prueba\n",
    "X_train, X_test, y_train, y_test = train_test_split(X,y, test_size=.2)\n",
    "print X_train.shape, X_test.shape, y_train.shape, y_test.shape\n",
    "\n",
    "knn = KNeighborsClassifier(n_neighbors=8) #Declaramos al método\n",
    "\n",
    "knn.fit(X_train, y_train) #Ajustamos a al método\n",
    "\n",
    "knn.score(X_test, y_test) # El porcentaje de acertamiento del método"
   ]
  },
  {
   "cell_type": "code",
   "execution_count": 54,
   "metadata": {},
   "outputs": [
    {
     "data": {
      "text/plain": [
       "0.67109393652674487"
      ]
     },
     "execution_count": 54,
     "metadata": {},
     "output_type": "execute_result"
    }
   ],
   "source": [
    "X = prueba.values[:,:-1]\n",
    "y = prueba.values[:,-1]\n",
    "\n",
    "knn = KNeighborsClassifier(n_neighbors=4) #Declaramos al método\n",
    "\n",
    "knn.fit(X, y) #Ajustamos a al método\n",
    "\n",
    "knn.score(X, y) # El porcentaje de acertamiento del método"
   ]
  },
  {
   "cell_type": "code",
   "execution_count": 55,
   "metadata": {},
   "outputs": [
    {
     "name": "stdout",
     "output_type": "stream",
     "text": [
      "accuracy 0.575 (+/- 0.00487)\n"
     ]
    }
   ],
   "source": [
    "estkn = KNeighborsClassifier(n_neighbors=4)\n",
    "s = cross_val_score(estkn, X, y, cv=KFold(10, shuffle=True), scoring=make_scorer(accuracy_score))\n",
    "print \"accuracy %.3f (+/- %.5f)\"%(np.mean(s), np.std(s))"
   ]
  },
  {
   "cell_type": "code",
   "execution_count": 79,
   "metadata": {},
   "outputs": [
    {
     "data": {
      "image/png": "[encoded data removed]",
      "text/plain": [
       "<matplotlib.figure.Figure at 0x7f64d484f550>"
      ]
     },
     "metadata": {},
     "output_type": "display_data"
    }
   ],
   "source": [
    "estimadores=[ KNeighborsClassifier(), KNeighborsClassifier(n_neighbors=4),KNeighborsClassifier(n_neighbors=8)]\n",
    "C=[ \"KNN:Default(5)\", \"KNN:n_neighbors=4\",\"KNN:n_neighbors=8\"]\n",
    "plt.figure(figsize=(17,4))\n",
    "for i,este in enumerate(estimadores):\n",
    "    plt.subplot(1,3,i+1)\n",
    "    plt.title(C[i])\n",
    "    show_curve(este, X, y)"
   ]
  },
  {
   "cell_type": "markdown",
   "metadata": {},
   "source": [
    "### Redes neuronales"
   ]
  },
  {
   "cell_type": "code",
   "execution_count": 56,
   "metadata": {},
   "outputs": [],
   "source": [
    "import tensorflow as tf\n",
    "from tensorflow import keras"
   ]
  },
  {
   "cell_type": "code",
   "execution_count": 57,
   "metadata": {},
   "outputs": [
    {
     "name": "stdout",
     "output_type": "stream",
     "text": [
      "(90469, 7) (22618, 7) (90469,) (22618,)\n"
     ]
    }
   ],
   "source": [
    "from sklearn.model_selection import train_test_split\n",
    "\n",
    "X = prueba.values[:,:-1]\n",
    "y = prueba.values[:,-1]\n",
    "\n",
    "X_train, X_test, y_train, y_test = train_test_split(X,y, test_size=.2)\n",
    "\n",
    "print X_train.shape, X_test.shape, y_train.shape, y_test.shape"
   ]
  },
  {
   "cell_type": "code",
   "execution_count": 58,
   "metadata": {},
   "outputs": [
    {
     "name": "stdout",
     "output_type": "stream",
     "text": [
      "_________________________________________________________________\n",
      "Layer (type)                 Output Shape              Param #   \n",
      "=================================================================\n",
      "flatten_2 (Flatten)          (None, 7)                 0         \n",
      "_________________________________________________________________\n",
      "dense_3 (Dense)              (None, 4)                 32        \n",
      "_________________________________________________________________\n",
      "dense_4 (Dense)              (None, 9)                 45        \n",
      "=================================================================\n",
      "Total params: 77\n",
      "Trainable params: 77\n",
      "Non-trainable params: 0\n",
      "_________________________________________________________________\n"
     ]
    }
   ],
   "source": [
    "model = keras.models.Sequential([\n",
    "    keras.layers.Flatten(input_shape=(X[0].shape)),\n",
    "    keras.layers.Dense(4, activation=tf.nn.relu),\n",
    "    keras.layers.Dense(9, activation=tf.nn.softmax)\n",
    "])\n",
    "\n",
    "model.summary()"
   ]
  },
  {
   "cell_type": "code",
   "execution_count": 59,
   "metadata": {},
   "outputs": [],
   "source": [
    "model.compile(optimizer=tf.train.AdamOptimizer(), \n",
    "              loss='sparse_categorical_crossentropy',\n",
    "              metrics=['accuracy'])"
   ]
  },
  {
   "cell_type": "code",
   "execution_count": 60,
   "metadata": {},
   "outputs": [
    {
     "name": "stdout",
     "output_type": "stream",
     "text": [
      "Epoch 1/5\n",
      "90469/90469 [==============================] - 9s - loss: 1.7477 - acc: 0.5339     \n",
      "Epoch 2/5\n",
      "90469/90469 [==============================] - 9s - loss: 0.9586 - acc: 0.6414     \n",
      "Epoch 3/5\n",
      "90469/90469 [==============================] - 9s - loss: 0.9379 - acc: 0.6437     \n",
      "Epoch 4/5\n",
      "90469/90469 [==============================] - 9s - loss: 0.9320 - acc: 0.6438     \n",
      "Epoch 5/5\n",
      "90469/90469 [==============================] - ETA: 0s - loss: 0.9290 - acc: 0.643 - 9s - loss: 0.9289 - acc: 0.6438     \n"
     ]
    },
    {
     "data": {
      "text/plain": [
       "<tensorflow.python.keras._impl.keras.callbacks.History at 0x7f7444f63b50>"
      ]
     },
     "execution_count": 60,
     "metadata": {},
     "output_type": "execute_result"
    }
   ],
   "source": [
    "model.fit(X_train, y_train, epochs=5)"
   ]
  },
  {
   "cell_type": "code",
   "execution_count": 61,
   "metadata": {},
   "outputs": [
    {
     "name": "stdout",
     "output_type": "stream",
     "text": [
      "[  2.29399557e-08   4.38498319e-05   6.96008601e-06   4.86748722e-05\n",
      "   2.59973317e-01   3.75880336e-04   5.45930862e-01   3.87196988e-02\n",
      "   1.54900819e-01]\n",
      "('valor predicho:', 6, 'max prob: ', 0.54593086, 'ground truth: ', 4)\n"
     ]
    }
   ],
   "source": [
    "predictions = model.predict(X_test)\n",
    "print(predictions[0])\n",
    "print(\"valor predicho:\",  np.argmax(predictions[0]), \"max prob: \", np.max(predictions[0]),\n",
    "      \"ground truth: \", y_test[0] )"
   ]
  },
  {
   "cell_type": "markdown",
   "metadata": {},
   "source": [
    "# Prueba para los dos mejores métodos y comparacion con las predicciones"
   ]
  },
  {
   "cell_type": "code",
   "execution_count": 62,
   "metadata": {},
   "outputs": [
    {
     "name": "stdout",
     "output_type": "stream",
     "text": [
      "Número de fila que se le va a pasar al Predict  103202\n",
      "Valores de la fila que se le pasa el Predict  [ 7  0  0  0 57  2  5]\n",
      " \n",
      "PRUEBA PARA EL DesicionTree\n",
      "('valor predicho:', 6, 'ground truth: ', 8)\n",
      "La  clasificacion final predicha es:  6 - Cancelado\n",
      "La  clasificacion final verdadera es:  8 - Falsa alarma\n",
      " \n",
      "PRUEBA PARA EL RandomForest\n",
      "('valor predicho:', 6, 'ground truth: ', 8)\n",
      "La  clasificacion final predicha es:  6 - Cancelado\n",
      "La  clasificacion final verdadera es:  8 - Falsa alarma\n"
     ]
    }
   ],
   "source": [
    "## Individual predictions Desicion Tree\n",
    "index = np.random.randint(113088)\n",
    "print \"Número de fila que se le va a pasar al Predict \",index \n",
    "print \"Valores de la fila que se le pasa el Predict \",X[index]\n",
    "print \" \"\n",
    "print \"PRUEBA PARA EL DesicionTree\"\n",
    "predictions = knn.predict(X[index].reshape(1,7))\n",
    "print(\"valor predicho:\",  predictions[0], \"ground truth: \", y[index])\n",
    "a=predictions[0]\n",
    "b=y[index]\n",
    "if (clas_final[\"Num_clasificacion_final\"][a-1]==str(a)):\n",
    "    print \"La  clasificacion final predicha es: \", clas_final[\"Num_clasificacion_final\"][a-1],\"-\",clas_final[\"Clasificacion_final\"][a-1]\n",
    "    print \"La  clasificacion final verdadera es: \", clas_final[\"Num_clasificacion_final\"][b-1],\"-\",clas_final[\"Clasificacion_final\"][b-1]\n",
    "print \" \"\n",
    "print \"PRUEBA PARA EL RandomForest\"\n",
    "##Prueba randomForest\n",
    "predictions = estRF.predict(X[index].reshape(1,7))\n",
    "print(\"valor predicho:\",  predictions[0], \"ground truth: \", y[index])\n",
    "a=predictions[0]\n",
    "b=y[index]\n",
    "if (clas_final[\"Num_clasificacion_final\"][a-1]==str(a)):\n",
    "    print \"La  clasificacion final predicha es: \", clas_final[\"Num_clasificacion_final\"][a-1],\"-\",clas_final[\"Clasificacion_final\"][a-1]\n",
    "    print \"La  clasificacion final verdadera es: \", clas_final[\"Num_clasificacion_final\"][b-1],\"-\",clas_final[\"Clasificacion_final\"][b-1]\n"
   ]
  },
  {
   "cell_type": "code",
   "execution_count": 63,
   "metadata": {},
   "outputs": [
    {
     "data": {
      "text/html": [
       "<div>\n",
       "<style scoped>\n",
       "    .dataframe tbody tr th:only-of-type {\n",
       "        vertical-align: middle;\n",
       "    }\n",
       "\n",
       "    .dataframe tbody tr th {\n",
       "        vertical-align: top;\n",
       "    }\n",
       "\n",
       "    .dataframe thead th {\n",
       "        text-align: right;\n",
       "    }\n",
       "</style>\n",
       "<table border=\"1\" class=\"dataframe\">\n",
       "  <thead>\n",
       "    <tr style=\"text-align: right;\">\n",
       "      <th></th>\n",
       "      <th>COD_LOCALIDAD</th>\n",
       "      <th>EDAD</th>\n",
       "      <th>UNIDAD</th>\n",
       "      <th>GENERO</th>\n",
       "      <th>TIPO_INCIDENTE</th>\n",
       "      <th>PRIORIDAD</th>\n",
       "      <th>MES</th>\n",
       "      <th>CLASIFICACION_FINAL</th>\n",
       "    </tr>\n",
       "  </thead>\n",
       "  <tbody>\n",
       "    <tr>\n",
       "      <th>103254</th>\n",
       "      <td>7</td>\n",
       "      <td>0</td>\n",
       "      <td>0</td>\n",
       "      <td>0</td>\n",
       "      <td>57</td>\n",
       "      <td>2</td>\n",
       "      <td>5</td>\n",
       "      <td>8</td>\n",
       "    </tr>\n",
       "  </tbody>\n",
       "</table>\n",
       "</div>"
      ],
      "text/plain": [
       "        COD_LOCALIDAD  EDAD  UNIDAD  GENERO  TIPO_INCIDENTE  PRIORIDAD  MES  \\\n",
       "103254              7     0       0       0              57          2    5   \n",
       "\n",
       "        CLASIFICACION_FINAL  \n",
       "103254                    8  "
      ]
     },
     "execution_count": 63,
     "metadata": {},
     "output_type": "execute_result"
    }
   ],
   "source": [
    "prueba[index:index+1]"
   ]
  },
  {
   "cell_type": "code",
   "execution_count": 64,
   "metadata": {},
   "outputs": [
    {
     "data": {
      "text/html": [
       "<div>\n",
       "<style scoped>\n",
       "    .dataframe tbody tr th:only-of-type {\n",
       "        vertical-align: middle;\n",
       "    }\n",
       "\n",
       "    .dataframe tbody tr th {\n",
       "        vertical-align: top;\n",
       "    }\n",
       "\n",
       "    .dataframe thead th {\n",
       "        text-align: right;\n",
       "    }\n",
       "</style>\n",
       "<table border=\"1\" class=\"dataframe\">\n",
       "  <thead>\n",
       "    <tr style=\"text-align: right;\">\n",
       "      <th></th>\n",
       "      <th>COD_LOCALIDAD</th>\n",
       "      <th>EDAD</th>\n",
       "      <th>UNIDAD</th>\n",
       "      <th>GENERO</th>\n",
       "      <th>TIPO_INCIDENTE</th>\n",
       "      <th>PRIORIDAD</th>\n",
       "      <th>MES</th>\n",
       "      <th>CLASIFICACION_FINAL</th>\n",
       "    </tr>\n",
       "  </thead>\n",
       "  <tbody>\n",
       "    <tr>\n",
       "      <th>103254</th>\n",
       "      <td>7</td>\n",
       "      <td>SIN_DATO</td>\n",
       "      <td>SIN_DATO</td>\n",
       "      <td>SIN_DATO</td>\n",
       "      <td>Trastorno mental</td>\n",
       "      <td>MEDIA</td>\n",
       "      <td>MAYO</td>\n",
       "      <td>Falsa Alarma</td>\n",
       "    </tr>\n",
       "  </tbody>\n",
       "</table>\n",
       "</div>"
      ],
      "text/plain": [
       "        COD_LOCALIDAD      EDAD    UNIDAD    GENERO    TIPO_INCIDENTE  \\\n",
       "103254              7  SIN_DATO  SIN_DATO  SIN_DATO  Trastorno mental   \n",
       "\n",
       "       PRIORIDAD   MES CLASIFICACION_FINAL  \n",
       "103254     MEDIA  MAYO        Falsa Alarma  "
      ]
     },
     "execution_count": 64,
     "metadata": {},
     "output_type": "execute_result"
    }
   ],
   "source": [
    "P_resulF[index:index+1]"
   ]
  },
  {
   "cell_type": "markdown",
   "metadata": {},
   "source": [
    "### DBSCAN"
   ]
  },
  {
   "cell_type": "code",
   "execution_count": 89,
   "metadata": {},
   "outputs": [],
   "source": [
    "def seeds_func(epsilon,min_points):\n",
    "    import numpy as np\n",
    "    import pandas as pd\n",
    "    from sklearn.cluster import DBSCAN\n",
    "    \n",
    "    class_int=prueba.values[:,:-1].astype(np.int)\n",
    "    x = prueba.values[:,:-1]\n",
    "    DBS = DBSCAN(eps=epsilon, min_samples=min_points)\n",
    "    DBS.fit(x)\n",
    "\n",
    "    return class_int, DBS.labels_, DBS"
   ]
  },
  {
   "cell_type": "code",
   "execution_count": 90,
   "metadata": {},
   "outputs": [
    {
     "name": "stdout",
     "output_type": "stream",
     "text": [
      "(113087, 7)\n"
     ]
    },
    {
     "data": {
      "text/plain": [
       "<matplotlib.collections.PathCollection at 0x7f64d5336490>"
      ]
     },
     "execution_count": 90,
     "metadata": {},
     "output_type": "execute_result"
    },
    {
     "data": {
      "image/png": "[encoded data removed]",
      "text/plain": [
       "<matplotlib.figure.Figure at 0x7f65018b9810>"
      ]
     },
     "metadata": {},
     "output_type": "display_data"
    }
   ],
   "source": [
    "from sklearn.cluster import DBSCAN\n",
    "\n",
    "X = prueba.values[:,:-1]\n",
    "DBS = DBSCAN(eps=1.2, min_samples=8)\n",
    "DBS.fit(X)\n",
    "print X.shape\n",
    "\n",
    "class_int, labels, DBS =seeds_func(epsilon= 1.2,min_points=8)\n",
    "\n",
    "plt.figure(figsize=(15,4))\n",
    "plt.subplot(321);\n",
    "plt.scatter(X[:,0],X[:,1], c=labels, cmap='rainbow') \n",
    "plt.subplot(322);\n",
    "plt.scatter(X[:,0],X[:,1], c=labels, cmap='rainbow') \n",
    "plt.subplot(323);\n",
    "plt.scatter(X[:,2],X[:,3], c=labels, cmap='rainbow') \n",
    "plt.subplot(324);\n",
    "plt.scatter(X[:,2],X[:,3], c=labels, cmap='rainbow') \n",
    "plt.subplot(325);\n",
    "plt.scatter(X[:,3],X[:,4], c=labels, cmap='rainbow') \n",
    "plt.subplot(326);\n",
    "plt.scatter(X[:,4],X[:,5], c=labels, cmap='rainbow') "
   ]
  },
  {
   "cell_type": "code",
   "execution_count": 65,
   "metadata": {},
   "outputs": [
    {
     "data": {
      "text/html": [
       "<div>\n",
       "<style scoped>\n",
       "    .dataframe tbody tr th:only-of-type {\n",
       "        vertical-align: middle;\n",
       "    }\n",
       "\n",
       "    .dataframe tbody tr th {\n",
       "        vertical-align: top;\n",
       "    }\n",
       "\n",
       "    .dataframe thead th {\n",
       "        text-align: right;\n",
       "    }\n",
       "</style>\n",
       "<table border=\"1\" class=\"dataframe\">\n",
       "  <thead>\n",
       "    <tr style=\"text-align: right;\">\n",
       "      <th></th>\n",
       "      <th>COD_LOCALIDAD</th>\n",
       "      <th>EDAD</th>\n",
       "      <th>UNIDAD</th>\n",
       "      <th>GENERO</th>\n",
       "      <th>TIPO_INCIDENTE</th>\n",
       "      <th>PRIORIDAD</th>\n",
       "      <th>MES</th>\n",
       "      <th>CLASIFICACION_FINAL</th>\n",
       "    </tr>\n",
       "  </thead>\n",
       "  <tbody>\n",
       "    <tr>\n",
       "      <th>0</th>\n",
       "      <td>11</td>\n",
       "      <td>0</td>\n",
       "      <td>0</td>\n",
       "      <td>0</td>\n",
       "      <td>38</td>\n",
       "      <td>3</td>\n",
       "      <td>1</td>\n",
       "      <td>6</td>\n",
       "    </tr>\n",
       "    <tr>\n",
       "      <th>1</th>\n",
       "      <td>16</td>\n",
       "      <td>0</td>\n",
       "      <td>0</td>\n",
       "      <td>0</td>\n",
       "      <td>4</td>\n",
       "      <td>3</td>\n",
       "      <td>1</td>\n",
       "      <td>6</td>\n",
       "    </tr>\n",
       "    <tr>\n",
       "      <th>2</th>\n",
       "      <td>3</td>\n",
       "      <td>51</td>\n",
       "      <td>1</td>\n",
       "      <td>2</td>\n",
       "      <td>16</td>\n",
       "      <td>3</td>\n",
       "      <td>1</td>\n",
       "      <td>5</td>\n",
       "    </tr>\n",
       "    <tr>\n",
       "      <th>3</th>\n",
       "      <td>10</td>\n",
       "      <td>0</td>\n",
       "      <td>0</td>\n",
       "      <td>0</td>\n",
       "      <td>35</td>\n",
       "      <td>3</td>\n",
       "      <td>1</td>\n",
       "      <td>8</td>\n",
       "    </tr>\n",
       "    <tr>\n",
       "      <th>4</th>\n",
       "      <td>8</td>\n",
       "      <td>0</td>\n",
       "      <td>0</td>\n",
       "      <td>0</td>\n",
       "      <td>26</td>\n",
       "      <td>3</td>\n",
       "      <td>1</td>\n",
       "      <td>6</td>\n",
       "    </tr>\n",
       "  </tbody>\n",
       "</table>\n",
       "</div>"
      ],
      "text/plain": [
       "   COD_LOCALIDAD  EDAD  UNIDAD  GENERO  TIPO_INCIDENTE  PRIORIDAD  MES  \\\n",
       "0             11     0       0       0              38          3    1   \n",
       "1             16     0       0       0               4          3    1   \n",
       "2              3    51       1       2              16          3    1   \n",
       "3             10     0       0       0              35          3    1   \n",
       "4              8     0       0       0              26          3    1   \n",
       "\n",
       "   CLASIFICACION_FINAL  \n",
       "0                    6  \n",
       "1                    6  \n",
       "2                    5  \n",
       "3                    8  \n",
       "4                    6  "
      ]
     },
     "execution_count": 65,
     "metadata": {},
     "output_type": "execute_result"
    }
   ],
   "source": [
    "prueba.head()\n"
   ]
  },
  {
   "cell_type": "code",
   "execution_count": 66,
   "metadata": {},
   "outputs": [
    {
     "name": "stdout",
     "output_type": "stream",
     "text": [
      "<class 'pandas.core.frame.DataFrame'>\n",
      "Int64Index: 113087 entries, 0 to 113138\n",
      "Data columns (total 8 columns):\n",
      "COD_LOCALIDAD          113087 non-null int64\n",
      "EDAD                   113087 non-null int64\n",
      "UNIDAD                 113087 non-null int64\n",
      "GENERO                 113087 non-null int64\n",
      "TIPO_INCIDENTE         113087 non-null int64\n",
      "PRIORIDAD              113087 non-null int64\n",
      "MES                    113087 non-null int64\n",
      "CLASIFICACION_FINAL    113087 non-null int64\n",
      "dtypes: int64(8)\n",
      "memory usage: 7.8 MB\n"
     ]
    }
   ],
   "source": [
    "prueba.info()"
   ]
  },
  {
   "cell_type": "markdown",
   "metadata": {},
   "source": [
    "## Ahora tomaremos como \"Y\" a la característica 'PRIORIDAD'\n",
    "### Esto con el fin de tratar de relacionar la Prioridad de cada llamada con el tipo de clasificación final."
   ]
  },
  {
   "cell_type": "code",
   "execution_count": 67,
   "metadata": {},
   "outputs": [],
   "source": [
    "X = prueba.values[:,[0,1,2,3,4,6,7]]\n",
    "y = prueba.values[:,-3]"
   ]
  },
  {
   "cell_type": "markdown",
   "metadata": {},
   "source": [
    "### Gaussian "
   ]
  },
  {
   "cell_type": "code",
   "execution_count": 68,
   "metadata": {},
   "outputs": [
    {
     "name": "stdout",
     "output_type": "stream",
     "text": [
      "0.787\n"
     ]
    }
   ],
   "source": [
    "from sklearn.naive_bayes import GaussianNB\n",
    "estGp = GaussianNB()\n",
    "\n",
    "estGp.fit(X,y)\n",
    "predictions = estGp.predict(X)\n",
    "print \"%.3f\"%accuracy_score(predictions, y)"
   ]
  },
  {
   "cell_type": "code",
   "execution_count": 69,
   "metadata": {},
   "outputs": [
    {
     "name": "stdout",
     "output_type": "stream",
     "text": [
      "[ 0.78716067  0.78291626  0.79441153  0.78963657  0.77990981  0.79069767\n",
      "  0.7904324   0.79209409  0.78121684  0.78351609]\n",
      "accuracy 0.787 (+/- 0.00475)\n"
     ]
    }
   ],
   "source": [
    "from sklearn.metrics import make_scorer, accuracy_score\n",
    "\n",
    "s = cross_val_score(estG, X, y, cv=KFold(10, shuffle=True), scoring=make_scorer(accuracy_score))\n",
    "print s\n",
    "print \"accuracy %.3f (+/- %.5f)\"%(np.mean(s), np.std(s))"
   ]
  },
  {
   "cell_type": "code",
   "execution_count": 70,
   "metadata": {},
   "outputs": [
    {
     "name": "stdout",
     "output_type": "stream",
     "text": [
      "shape after PCA  (113087, 3)\n",
      "accuracy 0.835 (+/- 0.00436)\n"
     ]
    },
    {
     "data": {
      "text/plain": [
       "GaussianNB(priors=None)"
      ]
     },
     "execution_count": 70,
     "metadata": {},
     "output_type": "execute_result"
    }
   ],
   "source": [
    "from sklearn.decomposition import PCA\n",
    "\n",
    "X = PCA(n_components=3).fit_transform(X)\n",
    "print \"shape after PCA \", X.shape\n",
    "s = cross_val_score(GaussianNB(), X, y, cv=KFold(10, shuffle=True), scoring=make_scorer(accuracy_score))\n",
    "print \"accuracy %.3f (+/- %.5f)\"%(np.mean(s), np.std(s))\n",
    "estG.fit(X,y)\n"
   ]
  },
  {
   "cell_type": "markdown",
   "metadata": {},
   "source": [
    "### Decision Tree Classifier"
   ]
  },
  {
   "cell_type": "code",
   "execution_count": 73,
   "metadata": {},
   "outputs": [
    {
     "name": "stdout",
     "output_type": "stream",
     "text": [
      "accuracy 0.916 (+/- 0.00313)\n"
     ]
    },
    {
     "data": {
      "text/plain": [
       "array([ 0.11435565,  0.14715961,  0.0020632 ,  0.01935252,  0.61070124,\n",
       "        0.07531803,  0.03104976])"
      ]
     },
     "execution_count": 73,
     "metadata": {},
     "output_type": "execute_result"
    }
   ],
   "source": [
    "from sklearn.tree import DecisionTreeClassifier\n",
    "X = prueba.values[:,[0,1,2,3,4,6,7]]\n",
    "y = prueba.values[:,-3]\n",
    "estDT1 = DecisionTreeClassifier()\n",
    "s = cross_val_score(estDT, X, y, cv=KFold(10, shuffle=True), scoring=make_scorer(accuracy_score))\n",
    "print \"accuracy %.3f (+/- %.5f)\"%(np.mean(s), np.std(s))\n",
    "\n",
    "estDT1.fit(X,y)\n",
    "estDT1.feature_importances_"
   ]
  },
  {
   "cell_type": "markdown",
   "metadata": {},
   "source": [
    "### Random Forest Classifier"
   ]
  },
  {
   "cell_type": "code",
   "execution_count": 74,
   "metadata": {},
   "outputs": [
    {
     "name": "stdout",
     "output_type": "stream",
     "text": [
      "accuracy 0.918 (+/- 0.00191)\n"
     ]
    },
    {
     "data": {
      "text/plain": [
       "array([ 0.11128607,  0.19488807,  0.00963745,  0.00863028,  0.59932751,\n",
       "        0.05123496,  0.02499566])"
      ]
     },
     "execution_count": 74,
     "metadata": {},
     "output_type": "execute_result"
    }
   ],
   "source": [
    "from sklearn.ensemble import RandomForestClassifier\n",
    "\n",
    "estRF1 = RandomForestClassifier()\n",
    "s = cross_val_score(estRF, X, y, cv=KFold(10, shuffle=True), scoring=make_scorer(accuracy_score))\n",
    "print \"accuracy %.3f (+/- %.5f)\"%(np.mean(s), np.std(s))\n",
    "estRF1.fit(X,y)\n",
    "estRF1.feature_importances_"
   ]
  },
  {
   "cell_type": "code",
   "execution_count": 99,
   "metadata": {},
   "outputs": [
    {
     "data": {
      "image/png": "[encoded data removed]",
      "text/plain": [
       "<matplotlib.figure.Figure at 0x7f64e279a050>"
      ]
     },
     "metadata": {},
     "output_type": "display_data"
    }
   ],
   "source": [
    "estimadores=[GaussianNB(),DecisionTreeClassifier(),RandomForestClassifier()]\n",
    "C=[\"GaussianNB()\",\"DecisionTreeClassifier()\",\"RandomForestClassifier()\"]\n",
    "plt.figure(figsize=(17,4))\n",
    "for i,este in enumerate(estimadores):\n",
    "    plt.subplot(1,3,i+1)\n",
    "    plt.title(C[i])\n",
    "    show_curve(este,X,y)"
   ]
  },
  {
   "cell_type": "markdown",
   "metadata": {},
   "source": [
    "### KNN: K-Nearest Neighbors"
   ]
  },
  {
   "cell_type": "code",
   "execution_count": 75,
   "metadata": {},
   "outputs": [
    {
     "name": "stdout",
     "output_type": "stream",
     "text": [
      "(90469, 7) (22618, 7) (90469,) (22618,)\n"
     ]
    },
    {
     "data": {
      "text/plain": [
       "0.87138562207091697"
      ]
     },
     "execution_count": 75,
     "metadata": {},
     "output_type": "execute_result"
    }
   ],
   "source": [
    "from sklearn.neighbors import KNeighborsClassifier #Importamos al método \n",
    "from sklearn.datasets import load_iris #Importamos el conjunto de datos\n",
    "from sklearn.model_selection import train_test_split \n",
    "\n",
    "X = prueba.values[:,[0,1,2,3,4,6,7]]\n",
    "y = prueba.values[:,-3]\n",
    "\n",
    "#Dividimos nuestros datos en \"conjunto de entrenamiento y de prueba\n",
    "X_train, X_test, y_train, y_test = train_test_split(X,y, test_size=.2)\n",
    "print X_train.shape, X_test.shape, y_train.shape, y_test.shape\n",
    "\n",
    "knnp = KNeighborsClassifier(n_neighbors=4) #Declaramos al método\n",
    "\n",
    "knnp.fit(X_train, y_train) #Ajustamos a al método\n",
    "\n",
    "knnp.score(X_test, y_test) # El porcentaje de acertamiento del método"
   ]
  },
  {
   "cell_type": "code",
   "execution_count": 76,
   "metadata": {},
   "outputs": [
    {
     "data": {
      "text/plain": [
       "0.91339411249745772"
      ]
     },
     "execution_count": 76,
     "metadata": {},
     "output_type": "execute_result"
    }
   ],
   "source": [
    "knnp = KNeighborsClassifier(n_neighbors=4) #Declaramos al método\n",
    "\n",
    "knnp.fit(X, y) #Ajustamos a al método\n",
    "\n",
    "knnp.score(X, y) # El porcentaje de acertamiento del método con todos los valores de X y de Y"
   ]
  },
  {
   "cell_type": "code",
   "execution_count": 77,
   "metadata": {},
   "outputs": [
    {
     "name": "stdout",
     "output_type": "stream",
     "text": [
      "accuracy 0.872 (+/- 0.00243)\n"
     ]
    }
   ],
   "source": [
    "estkn = KNeighborsClassifier(n_neighbors=4)\n",
    "s = cross_val_score(estkn, X, y, cv=KFold(10, shuffle=True), scoring=make_scorer(accuracy_score))\n",
    "print \"accuracy %.3f (+/- %.5f)\"%(np.mean(s), np.std(s))\n"
   ]
  },
  {
   "cell_type": "code",
   "execution_count": 103,
   "metadata": {},
   "outputs": [
    {
     "data": {
      "image/png": "[encoded data removed]",
      "text/plain": [
       "<matplotlib.figure.Figure at 0x7f64d4109e10>"
      ]
     },
     "metadata": {},
     "output_type": "display_data"
    }
   ],
   "source": [
    "estimadores=[ KNeighborsClassifier(), KNeighborsClassifier(n_neighbors=4),KNeighborsClassifier(n_neighbors=8)]\n",
    "C=[ \"KNN:Default(5)\", \"KNN:n_neighbors=4\",\"KNN:n_neighbors=8\"]\n",
    "plt.figure(figsize=(17,4))\n",
    "for i,este in enumerate(estimadores):\n",
    "    plt.subplot(1,3,i+1)\n",
    "    plt.title(C[i])\n",
    "    show_curve(este, X, y)"
   ]
  },
  {
   "cell_type": "markdown",
   "metadata": {},
   "source": [
    "### Redes neuronales"
   ]
  },
  {
   "cell_type": "code",
   "execution_count": 78,
   "metadata": {},
   "outputs": [
    {
     "name": "stdout",
     "output_type": "stream",
     "text": [
      "(90469, 7) (22618, 7) (90469,) (22618,)\n"
     ]
    }
   ],
   "source": [
    "from sklearn.model_selection import train_test_split\n",
    "X = prueba.values[:,[0,1,2,3,4,6,7]]\n",
    "y = prueba.values[:,-3]\n",
    "\n",
    "X_train, X_test, y_train, y_test = train_test_split(X,y, test_size=.2)\n",
    "\n",
    "print X_train.shape, X_test.shape, y_train.shape, y_test.shape"
   ]
  },
  {
   "cell_type": "code",
   "execution_count": 79,
   "metadata": {},
   "outputs": [
    {
     "name": "stdout",
     "output_type": "stream",
     "text": [
      "_________________________________________________________________\n",
      "Layer (type)                 Output Shape              Param #   \n",
      "=================================================================\n",
      "flatten_3 (Flatten)          (None, 7)                 0         \n",
      "_________________________________________________________________\n",
      "dense_5 (Dense)              (None, 4)                 32        \n",
      "_________________________________________________________________\n",
      "dense_6 (Dense)              (None, 4)                 20        \n",
      "=================================================================\n",
      "Total params: 52\n",
      "Trainable params: 52\n",
      "Non-trainable params: 0\n",
      "_________________________________________________________________\n"
     ]
    }
   ],
   "source": [
    "model = keras.models.Sequential([\n",
    "    keras.layers.Flatten(input_shape=(X[0].shape)),\n",
    "    keras.layers.Dense(4, activation=tf.nn.relu),\n",
    "    keras.layers.Dense(4, activation=tf.nn.softmax)\n",
    "])\n",
    "\n",
    "model.summary()"
   ]
  },
  {
   "cell_type": "code",
   "execution_count": 80,
   "metadata": {},
   "outputs": [],
   "source": [
    "model.compile(optimizer=tf.train.AdamOptimizer(), \n",
    "              loss='sparse_categorical_crossentropy',\n",
    "              metrics=['accuracy'])"
   ]
  },
  {
   "cell_type": "code",
   "execution_count": 81,
   "metadata": {},
   "outputs": [
    {
     "name": "stdout",
     "output_type": "stream",
     "text": [
      "Epoch 1/5\n",
      "90469/90469 [==============================] - 9s - loss: 0.9222 - acc: 0.7821     \n",
      "Epoch 2/5\n",
      "90469/90469 [==============================] - 8s - loss: 0.4988 - acc: 0.8121     \n",
      "Epoch 3/5\n",
      "90469/90469 [==============================] - 9s - loss: 0.4825 - acc: 0.8034     \n",
      "Epoch 4/5\n",
      "90469/90469 [==============================] - 8s - loss: 0.4762 - acc: 0.8027     \n",
      "Epoch 5/5\n",
      "90469/90469 [==============================] - 8s - loss: 0.4731 - acc: 0.8038     \n"
     ]
    },
    {
     "data": {
      "text/plain": [
       "<tensorflow.python.keras._impl.keras.callbacks.History at 0x7f74471c16d0>"
      ]
     },
     "execution_count": 81,
     "metadata": {},
     "output_type": "execute_result"
    }
   ],
   "source": [
    "model.fit(X_train, y_train, epochs=5)"
   ]
  },
  {
   "cell_type": "code",
   "execution_count": 108,
   "metadata": {},
   "outputs": [
    {
     "name": "stdout",
     "output_type": "stream",
     "text": [
      "[  1.09368029e-05   9.72751155e-03   5.65998256e-01   4.24263358e-01]\n",
      "('valor predicho:', 2, 'max prob: ', 0.56599826, 'ground truth: ', 2)\n"
     ]
    }
   ],
   "source": [
    "predictions = model.predict(X_test)\n",
    "print(predictions[0])\n",
    "print(\"valor predicho:\",  np.argmax(predictions[0]), \"max prob: \", np.max(predictions[0]),\n",
    "      \"ground truth: \", y_test[0] )"
   ]
  },
  {
   "cell_type": "markdown",
   "metadata": {},
   "source": [
    "# Se hace comparacion con las predicciones de Prioridad y Clasificacion final."
   ]
  },
  {
   "cell_type": "code",
   "execution_count": 82,
   "metadata": {},
   "outputs": [
    {
     "name": "stdout",
     "output_type": "stream",
     "text": [
      "Número de fila que se le va a pasar al Predict  6171\n",
      "Valores de la fila que se le pasa el Predict  [11  0  0  0 36  3  1]\n",
      " \n",
      "PRUEBA PARA EL DesicionTree Teniendo a 'Y' como Clasificacion Final\n",
      "('valor predicho:', 6, 'ground truth: ', 6)\n",
      "La  clasificacion final predicha es:  6 - Cancelado\n",
      "La  clasificacion final verdadera es:  6 - Cancelado\n",
      " \n",
      "PRUEBA PARA EL RandomForest, teniedo como 'Y' a Prioridad\n",
      "Valores de la fila que se le pasa el Predict  [11  0  0  0 36  1  6]\n",
      "('valor predicho:', 3, 'ground truth: ', 3)\n",
      "La prioridad predicha es:  3 - Alta\n",
      "La prioridad verdadera es:  3 - Alta\n"
     ]
    }
   ],
   "source": [
    "## Individual predictions Desicion Tree\n",
    "# Hacemos X y nuestra Y para probar el metodo de estRF con Y=Clasificacion_final \n",
    "XX = prueba.values[:,:-1]\n",
    "yy = prueba.values[:,-1]\n",
    "\n",
    "\n",
    "index = np.random.randint(22619)\n",
    "print \"Número de fila que se le va a pasar al Predict \",index\n",
    "print \"Valores de la fila que se le pasa el Predict \",XX[index]\n",
    "print \" \"\n",
    "print \"PRUEBA PARA EL DesicionTree Teniendo a 'Y' como Clasificacion Final\"\n",
    "predictions = estRF.predict(XX[index].reshape(1,7))\n",
    "print(\"valor predicho:\",  predictions[0], \"ground truth: \", yy[index])\n",
    "a=predictions[0]\n",
    "b=yy[index]\n",
    "if (clas_final[\"Num_clasificacion_final\"][a-1]==str(a)):\n",
    "    print \"La  clasificacion final predicha es: \", clas_final[\"Num_clasificacion_final\"][a-1],\"-\",clas_final[\"Clasificacion_final\"][a-1]\n",
    "    print \"La  clasificacion final verdadera es: \", clas_final[\"Num_clasificacion_final\"][b-1],\"-\",clas_final[\"Clasificacion_final\"][b-1]\n",
    "print \" \"\n",
    "print \"PRUEBA PARA EL RandomForest, teniedo como 'Y' a Prioridad\"\n",
    "##Prueba randomForest\n",
    "print \"Valores de la fila que se le pasa el Predict \",X[index]\n",
    "predictions = knnp.predict(X[index].reshape(1,7))\n",
    "print(\"valor predicho:\",  predictions[0], \"ground truth: \", y[index])\n",
    "a=predictions[0]\n",
    "b=y[index]\n",
    "if (prioridad[\"Numero_prioridad\"][a-1]==str(a)):\n",
    "    print \"La prioridad predicha es: \", prioridad[\"Numero_prioridad\"][a-1],\"-\",prioridad[\"Prioridad\"][a-1]\n",
    "    print \"La prioridad verdadera es: \", prioridad[\"Numero_prioridad\"][b-1],\"-\",prioridad[\"Prioridad\"][b-1]\n"
   ]
  },
  {
   "cell_type": "code",
   "execution_count": 83,
   "metadata": {},
   "outputs": [
    {
     "data": {
      "text/html": [
       "<div>\n",
       "<style scoped>\n",
       "    .dataframe tbody tr th:only-of-type {\n",
       "        vertical-align: middle;\n",
       "    }\n",
       "\n",
       "    .dataframe tbody tr th {\n",
       "        vertical-align: top;\n",
       "    }\n",
       "\n",
       "    .dataframe thead th {\n",
       "        text-align: right;\n",
       "    }\n",
       "</style>\n",
       "<table border=\"1\" class=\"dataframe\">\n",
       "  <thead>\n",
       "    <tr style=\"text-align: right;\">\n",
       "      <th></th>\n",
       "      <th>COD_LOCALIDAD</th>\n",
       "      <th>EDAD</th>\n",
       "      <th>UNIDAD</th>\n",
       "      <th>GENERO</th>\n",
       "      <th>TIPO_INCIDENTE</th>\n",
       "      <th>PRIORIDAD</th>\n",
       "      <th>MES</th>\n",
       "      <th>CLASIFICACION_FINAL</th>\n",
       "    </tr>\n",
       "  </thead>\n",
       "  <tbody>\n",
       "    <tr>\n",
       "      <th>6171</th>\n",
       "      <td>11</td>\n",
       "      <td>0</td>\n",
       "      <td>0</td>\n",
       "      <td>0</td>\n",
       "      <td>36</td>\n",
       "      <td>3</td>\n",
       "      <td>1</td>\n",
       "      <td>6</td>\n",
       "    </tr>\n",
       "  </tbody>\n",
       "</table>\n",
       "</div>"
      ],
      "text/plain": [
       "      COD_LOCALIDAD  EDAD  UNIDAD  GENERO  TIPO_INCIDENTE  PRIORIDAD  MES  \\\n",
       "6171             11     0       0       0              36          3    1   \n",
       "\n",
       "      CLASIFICACION_FINAL  \n",
       "6171                    6  "
      ]
     },
     "execution_count": 83,
     "metadata": {},
     "output_type": "execute_result"
    }
   ],
   "source": [
    "prueba[index:index+1]"
   ]
  },
  {
   "cell_type": "code",
   "execution_count": 84,
   "metadata": {},
   "outputs": [
    {
     "data": {
      "text/html": [
       "<div>\n",
       "<style scoped>\n",
       "    .dataframe tbody tr th:only-of-type {\n",
       "        vertical-align: middle;\n",
       "    }\n",
       "\n",
       "    .dataframe tbody tr th {\n",
       "        vertical-align: top;\n",
       "    }\n",
       "\n",
       "    .dataframe thead th {\n",
       "        text-align: right;\n",
       "    }\n",
       "</style>\n",
       "<table border=\"1\" class=\"dataframe\">\n",
       "  <thead>\n",
       "    <tr style=\"text-align: right;\">\n",
       "      <th></th>\n",
       "      <th>COD_LOCALIDAD</th>\n",
       "      <th>EDAD</th>\n",
       "      <th>UNIDAD</th>\n",
       "      <th>GENERO</th>\n",
       "      <th>TIPO_INCIDENTE</th>\n",
       "      <th>PRIORIDAD</th>\n",
       "      <th>MES</th>\n",
       "      <th>CLASIFICACION_FINAL</th>\n",
       "    </tr>\n",
       "  </thead>\n",
       "  <tbody>\n",
       "    <tr>\n",
       "      <th>6171</th>\n",
       "      <td>11</td>\n",
       "      <td>SIN_DATO</td>\n",
       "      <td>SIN_DATO</td>\n",
       "      <td>SIN_DATO</td>\n",
       "      <td>Intento de suicidio</td>\n",
       "      <td>ALTA</td>\n",
       "      <td>ENERO</td>\n",
       "      <td>Cancelado</td>\n",
       "    </tr>\n",
       "  </tbody>\n",
       "</table>\n",
       "</div>"
      ],
      "text/plain": [
       "      COD_LOCALIDAD      EDAD    UNIDAD    GENERO       TIPO_INCIDENTE  \\\n",
       "6171             11  SIN_DATO  SIN_DATO  SIN_DATO  Intento de suicidio   \n",
       "\n",
       "     PRIORIDAD    MES CLASIFICACION_FINAL  \n",
       "6171      ALTA  ENERO           Cancelado  "
      ]
     },
     "execution_count": 84,
     "metadata": {},
     "output_type": "execute_result"
    }
   ],
   "source": [
    "P_resulF[index:index+1]"
   ]
  },
  {
   "cell_type": "markdown",
   "metadata": {},
   "source": [
    "### DBSCAN"
   ]
  },
  {
   "cell_type": "code",
   "execution_count": 112,
   "metadata": {},
   "outputs": [],
   "source": [
    "def seeds_func(epsilon,min_points):\n",
    "    import numpy as np\n",
    "    import pandas as pd\n",
    "    from sklearn.cluster import DBSCAN\n",
    "    \n",
    "    class_int=prueba.values[:,[0,1,2,3,4,6,7]].astype(np.int)\n",
    "    x = prueba.values[:,[0,1,2,3,4,6,7]]\n",
    "    DBS = DBSCAN(eps=epsilon, min_samples=min_points)\n",
    "    DBS.fit(x)\n",
    "\n",
    "    return class_int, DBS.labels_, DBS"
   ]
  },
  {
   "cell_type": "code",
   "execution_count": 113,
   "metadata": {},
   "outputs": [
    {
     "name": "stdout",
     "output_type": "stream",
     "text": [
      "(113087, 7)\n"
     ]
    },
    {
     "data": {
      "text/plain": [
       "<matplotlib.collections.PathCollection at 0x7f64d4529550>"
      ]
     },
     "execution_count": 113,
     "metadata": {},
     "output_type": "execute_result"
    },
    {
     "data": {
      "image/png": "[encoded data removed]",
      "text/plain": [
       "<matplotlib.figure.Figure at 0x7f64d5bdc550>"
      ]
     },
     "metadata": {},
     "output_type": "display_data"
    }
   ],
   "source": [
    "from sklearn.cluster import DBSCAN\n",
    "\n",
    "X = prueba.values[:,[0,1,2,3,4,6,7]]\n",
    "DBS = DBSCAN(eps=1.2, min_samples=3)\n",
    "DBS.fit(X)\n",
    "print X.shape\n",
    "\n",
    "class_int, labels, DBS =seeds_func(epsilon= 1.2,min_points=3)\n",
    "\n",
    "plt.figure(figsize=(15,4))\n",
    "plt.subplot(321);\n",
    "plt.scatter(X[:,0],X[:,1], c=labels, cmap='rainbow') \n",
    "plt.subplot(322);\n",
    "plt.scatter(X[:,0],X[:,1], c=labels, cmap='rainbow') \n",
    "plt.subplot(323);\n",
    "plt.scatter(X[:,2],X[:,3], c=labels, cmap='rainbow') \n",
    "plt.subplot(324);\n",
    "plt.scatter(X[:,2],X[:,3], c=labels, cmap='rainbow') \n",
    "plt.subplot(325);\n",
    "plt.scatter(X[:,3],X[:,4], c=labels, cmap='rainbow') \n",
    "plt.subplot(326);\n",
    "plt.scatter(X[:,4],X[:,5], c=labels, cmap='rainbow') "
   ]
  },
  {
   "cell_type": "code",
   "execution_count": null,
   "metadata": {},
   "outputs": [],
   "source": []
  },
  {
   "cell_type": "code",
   "execution_count": null,
   "metadata": {},
   "outputs": [],
   "source": []
  },
  {
   "cell_type": "code",
   "execution_count": null,
   "metadata": {},
   "outputs": [],
   "source": []
  },
  {
   "cell_type": "code",
   "execution_count": null,
   "metadata": {},
   "outputs": [],
   "source": []
  }
 ],
 "metadata": {
  "kernelspec": {
   "display_name": "Python 2",
   "language": "python",
   "name": "python2"
  },
  "language_info": {
   "codemirror_mode": {
    "name": "ipython",
    "version": 2
   },
   "file_extension": ".py",
   "mimetype": "text/x-python",
   "name": "python",
   "nbconvert_exporter": "python",
   "pygments_lexer": "ipython2",
   "version": "2.7.14"
  }
 },
 "nbformat": 4,
 "nbformat_minor": 2
}
